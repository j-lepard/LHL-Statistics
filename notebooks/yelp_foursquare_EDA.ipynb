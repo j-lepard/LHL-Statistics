{
 "cells": [
  {
   "cell_type": "code",
   "execution_count": 1,
   "metadata": {
    "ExecuteTime": {
     "end_time": "2023-09-21T21:39:00.550108Z",
     "start_time": "2023-09-21T21:39:00.522719Z"
    }
   },
   "outputs": [],
   "source": [
    "# imports"
   ]
  },
  {
   "cell_type": "markdown",
   "metadata": {},
   "source": [
    "# Foursquare"
   ]
  },
  {
   "cell_type": "markdown",
   "metadata": {},
   "source": [
    "Send a request to Foursquare with a small radius (1000m) for all the bike stations in your city of choice. "
   ]
  },
  {
   "cell_type": "markdown",
   "source": [
    "### Step 1: Establish broad API call\n",
    "* ensures API ok\n"
   ],
   "metadata": {
    "collapsed": false
   }
  },
  {
   "cell_type": "code",
   "execution_count": 1,
   "metadata": {
    "ExecuteTime": {
     "end_time": "2023-09-23T00:19:54.378418Z",
     "start_time": "2023-09-23T00:19:53.846102Z"
    }
   },
   "outputs": [
    {
     "name": "stdout",
     "output_type": "stream",
     "text": [
      "fsq3IfwEJ3A+/5rg/MDnHEO7RgiDAxoRIW9j7zW/C0ScVlE=\n",
      "{'results': [{'fsq_id': '4bdf6cddffdec9287a09eca1', 'categories': [{'id': 16039, 'name': 'Urban Park', 'icon': {'prefix': 'https://ss3.4sqi.net/img/categories_v2/parks_outdoors/park_', 'suffix': '.png'}}], 'chains': [], 'distance': 998, 'geocodes': {'main': {'latitude': 49.241325, 'longitude': -123.11111}, 'roof': {'latitude': 49.236986, 'longitude': -123.110884}}, 'link': '/v3/places/4bdf6cddffdec9287a09eca1', 'location': {'address': '4600 Cambie St', 'country': 'CA', 'formatted_address': '4600 Cambie St, Vancouver BC V5Z 2Z1', 'locality': 'Vancouver', 'postcode': 'V5Z 2Z1', 'region': 'BC'}, 'name': 'Queen Elizabeth Park', 'related_places': {'children': [{'fsq_id': '4e07cfdfb61c60b04547fd16', 'name': 'Queen Elizabeth Parking Lot'}, {'fsq_id': '4e5957dd52b1b78b819bf083', 'name': 'Celebration Pavilion'}, {'fsq_id': '637ab2e6da100869764d3264', 'name': 'Quarry Gardens'}, {'fsq_id': '4aac6667f964a520d85d20e3', 'name': 'Bloedel Floral Conservatory'}, {'fsq_id': '4dac824e8154abafc2d94654', 'name': 'Queen Elizabeth Park Offleash Dog Park'}, {'fsq_id': '4ad15d40f964a5203ade20e3', 'name': 'Seasons in the Park'}, {'fsq_id': '4e4c6b1162e1e5f46717eb97', 'name': 'Queen Elizabeth Park Fountains'}, {'fsq_id': '5b8acb6d419a9e002cc8fbea', 'name': 'Queen Elizabeth Park Rose Garden'}, {'fsq_id': '4b929e0ff964a520390a34e3', 'name': 'Queen Elizabeth Pitch & Putt'}]}, 'timezone': 'America/Vancouver'}, {'fsq_id': '4ab2dce1f964a520b66c20e3', 'categories': [{'id': 16017, 'name': 'Garden', 'icon': {'prefix': 'https://ss3.4sqi.net/img/categories_v2/parks_outdoors/garden_', 'suffix': '.png'}}], 'chains': [], 'distance': 1343, 'geocodes': {'main': {'latitude': 49.238594, 'longitude': -123.128586}, 'roof': {'latitude': 49.238572, 'longitude': -123.128613}}, 'link': '/v3/places/4ab2dce1f964a520b66c20e3', 'location': {'address': '5251 Oak St', 'country': 'CA', 'cross_street': 'btwn W 33rd & W 37th', 'formatted_address': '5251 Oak St (btwn W 33rd & W 37th), Vancouver BC V6M 4H1', 'locality': 'Vancouver', 'postcode': 'V6M 4H1', 'region': 'BC'}, 'name': 'VanDusen Botanical Garden', 'related_places': {'children': []}, 'timezone': 'America/Vancouver'}, {'fsq_id': '51b201d27dd249ae714ba728', 'categories': [{'id': 13003, 'name': 'Bar', 'icon': {'prefix': 'https://ss3.4sqi.net/img/categories_v2/nightlife/pub_', 'suffix': '.png'}}, {'id': 13029, 'name': 'Brewery', 'icon': {'prefix': 'https://ss3.4sqi.net/img/categories_v2/food/brewery_', 'suffix': '.png'}}, {'id': 13065, 'name': 'Restaurant', 'icon': {'prefix': 'https://ss3.4sqi.net/img/categories_v2/food/default_', 'suffix': '.png'}}], 'chains': [], 'distance': 1876, 'geocodes': {'main': {'latitude': 49.263898, 'longitude': -123.10539}, 'roof': {'latitude': 49.263898, 'longitude': -123.10539}}, 'link': '/v3/places/51b201d27dd249ae714ba728', 'location': {'address': '15 8th Ave W', 'country': 'CA', 'cross_street': 'btwn Manitoba & Ontario', 'formatted_address': '15 8th Ave W (btwn Manitoba & Ontario), Vancouver BC V5Y 1M8', 'locality': 'Vancouver', 'postcode': 'V5Y 1M8', 'region': 'BC'}, 'name': '33 Acres Brewing Co', 'related_places': {}, 'timezone': 'America/Vancouver'}, {'fsq_id': '4aada430f964a5201f6120e3', 'categories': [{'id': 16032, 'name': 'Park', 'icon': {'prefix': 'https://ss3.4sqi.net/img/categories_v2/parks_outdoors/park_', 'suffix': '.png'}}], 'chains': [], 'distance': 1952, 'geocodes': {'main': {'latitude': 49.266831, 'longitude': -123.124538}}, 'link': '/v3/places/4aada430f964a5201f6120e3', 'location': {'address': '999 Charleson St', 'country': 'CA', 'formatted_address': '999 Charleson St, Vancouver BC', 'locality': 'Vancouver', 'region': 'BC'}, 'name': 'Charleson Park', 'related_places': {'children': [{'fsq_id': '4df55f78483bdb5e137ae217', 'name': 'Playground'}]}, 'timezone': 'America/Vancouver'}, {'fsq_id': '5478ca03498e3bbc45e6ce54', 'categories': [{'id': 13034, 'name': 'Café', 'icon': {'prefix': 'https://ss3.4sqi.net/img/categories_v2/food/cafe_', 'suffix': '.png'}}, {'id': 13035, 'name': 'Coffee Shop', 'icon': {'prefix': 'https://ss3.4sqi.net/img/categories_v2/food/coffeeshop_', 'suffix': '.png'}}, {'id': 13065, 'name': 'Restaurant', 'icon': {'prefix': 'https://ss3.4sqi.net/img/categories_v2/food/default_', 'suffix': '.png'}}], 'chains': [], 'distance': 1962, 'geocodes': {'drop_off': {'latitude': 49.264523, 'longitude': -123.104835}, 'main': {'latitude': 49.264531, 'longitude': -123.105038}, 'roof': {'latitude': 49.264531, 'longitude': -123.105038}}, 'link': '/v3/places/5478ca03498e3bbc45e6ce54', 'location': {'address': '2301 Ontario St', 'country': 'CA', 'cross_street': 'at 7th Ave', 'formatted_address': '2301 Ontario St (at 7th Ave), Vancouver BC V5T 2X5', 'locality': 'Vancouver', 'postcode': 'V5T 2X5', 'region': 'BC'}, 'name': 'Elysian Coffee', 'related_places': {}, 'timezone': 'America/Vancouver'}, {'fsq_id': '51e5b46b7dd23f304f4c023e', 'categories': [{'id': 13046, 'name': 'Ice Cream Parlor', 'icon': {'prefix': 'https://ss3.4sqi.net/img/categories_v2/food/icecream_', 'suffix': '.png'}}, {'id': 13065, 'name': 'Restaurant', 'icon': {'prefix': 'https://ss3.4sqi.net/img/categories_v2/food/default_', 'suffix': '.png'}}], 'chains': [], 'distance': 2126, 'geocodes': {'drop_off': {'latitude': 49.24934, 'longitude': -123.090124}, 'main': {'latitude': 49.249334, 'longitude': -123.089877}, 'roof': {'latitude': 49.249334, 'longitude': -123.089877}}, 'link': '/v3/places/51e5b46b7dd23f304f4c023e', 'location': {'address': '3992 Fraser St', 'country': 'CA', 'cross_street': 'at E 24th Ave', 'formatted_address': '3992 Fraser St (at E 24th Ave), Vancouver BC V5V 4E4', 'locality': 'Vancouver', 'postcode': 'V5V 4E4', 'region': 'BC'}, 'name': 'Earnest Ice Cream', 'related_places': {}, 'timezone': 'America/Vancouver'}, {'fsq_id': '50d4bd11e4b0b55bb4b657a3', 'categories': [{'id': 13002, 'name': 'Bakery', 'icon': {'prefix': 'https://ss3.4sqi.net/img/categories_v2/food/bakery_', 'suffix': '.png'}}, {'id': 13148, 'name': 'French Restaurant', 'icon': {'prefix': 'https://ss3.4sqi.net/img/categories_v2/food/french_', 'suffix': '.png'}}], 'chains': [], 'distance': 2423, 'geocodes': {'main': {'latitude': 49.266477, 'longitude': -123.140728}, 'roof': {'latitude': 49.266477, 'longitude': -123.140728}}, 'link': '/v3/places/50d4bd11e4b0b55bb4b657a3', 'location': {'address': '2150 Fir St', 'country': 'CA', 'cross_street': 'at W 6th Ave', 'formatted_address': '2150 Fir St (at W 6th Ave), Vancouver BC V6J 3B5', 'locality': 'Vancouver', 'postcode': 'V6J 3B5', 'region': 'BC'}, 'name': 'Beaucoup Bakery & Cafe', 'related_places': {}, 'timezone': 'America/Vancouver'}, {'fsq_id': '54bea64f498ec3ed3dde9a10', 'categories': [{'id': 13046, 'name': 'Ice Cream Parlor', 'icon': {'prefix': 'https://ss3.4sqi.net/img/categories_v2/food/icecream_', 'suffix': '.png'}}, {'id': 13065, 'name': 'Restaurant', 'icon': {'prefix': 'https://ss3.4sqi.net/img/categories_v2/food/default_', 'suffix': '.png'}}], 'chains': [], 'distance': 2464, 'geocodes': {'drop_off': {'latitude': 49.268874, 'longitude': -123.102732}, 'main': {'latitude': 49.268876, 'longitude': -123.102894}, 'roof': {'latitude': 49.268876, 'longitude': -123.102894}}, 'link': '/v3/places/54bea64f498ec3ed3dde9a10', 'location': {'address': '1829 Quebec St', 'country': 'CA', 'cross_street': 'at E 2nd Ave', 'formatted_address': '1829 Quebec St (at E 2nd Ave), Vancouver BC V5T 2Z3', 'locality': 'Vancouver', 'postcode': 'V5T 2Z3', 'region': 'BC'}, 'name': 'Earnest Ice Cream', 'related_places': {}, 'timezone': 'America/Vancouver'}, {'fsq_id': '4b572f20f964a520f92928e3', 'categories': [{'id': 16032, 'name': 'Park', 'icon': {'prefix': 'https://ss3.4sqi.net/img/categories_v2/parks_outdoors/park_', 'suffix': '.png'}}], 'chains': [], 'distance': 2555, 'geocodes': {'main': {'latitude': 49.27233, 'longitude': -123.124359}}, 'link': '/v3/places/4b572f20f964a520f92928e3', 'location': {'address': '1300 Pacific Blvd', 'country': 'CA', 'formatted_address': '1300 Pacific Blvd, Vancouver BC V6Z 0A9', 'locality': 'Vancouver', 'postcode': 'V6Z 0A9', 'region': 'BC'}, 'name': 'David Lam Park', 'related_places': {'children': []}, 'timezone': 'America/Vancouver'}, {'fsq_id': '4df29cb0fa76abc3d86a240a', 'categories': [{'id': 16019, 'name': 'Hiking Trail', 'icon': {'prefix': 'https://ss3.4sqi.net/img/categories_v2/parks_outdoors/hikingtrail_', 'suffix': '.png'}}], 'chains': [], 'distance': 2773, 'geocodes': {'main': {'latitude': 49.272387, 'longitude': -123.104085}}, 'link': '/v3/places/4df29cb0fa76abc3d86a240a', 'location': {'address': 'Quebec St', 'country': 'CA', 'formatted_address': 'Quebec St, Vancouver BC', 'locality': 'Vancouver', 'region': 'BC'}, 'name': 'Seaside Seawall', 'related_places': {}, 'timezone': 'America/Vancouver'}], 'context': {'geo_bounds': {'circle': {'center': {'latitude': 49.24966, 'longitude': -123.11934}, 'radius': 7129}}}}\n"
     ]
    }
   ],
   "source": [
    "import json\n",
    "\n",
    "import requests\n",
    "import os\n",
    "\n",
    "FS_API_KEY = os.getenv('FOURSQUARE_API_KEY')\n",
    "\n",
    "\n",
    "print(FS_API_KEY)\n",
    "\n",
    "location = \"Vancouver, Canada\"\n",
    "url = \"https://api.foursquare.com/v3/places/search?near=\" + location\n",
    "\n",
    "# Create dictionary for headers\n",
    "\n",
    "payload = {}\n",
    "headers = {\n",
    "        \"Accept\": \"application/json\",\n",
    "        'Authorization': FS_API_KEY\n",
    "            }\n",
    "\n",
    "response = requests.request(\"GET\", url, headers=headers, data=payload)\n",
    "\n",
    "print(response.json())"
   ]
  },
  {
   "cell_type": "markdown",
   "source": [
    "## Step 2: Prepare and Test Lat Long info from SQL\n",
    "* ensure syntax is correct\n",
    "* update Postgres DB to avoid potential concatenation complication in code.\n",
    "* "
   ],
   "metadata": {
    "collapsed": false
   }
  },
  {
   "cell_type": "code",
   "execution_count": 3,
   "outputs": [
    {
     "data": {
      "text/plain": "\"UPDATE city_bikes\\nSET lat_long = (select concat(latitude,',',longitude));\""
     },
     "execution_count": 3,
     "metadata": {},
     "output_type": "execute_result"
    }
   ],
   "source": [
    "## SQL to create a new column in the City_bike Table. \n",
    "# Performed in Postgres\n",
    "\n",
    "'''UPDATE city_bikes\n",
    "SET lat_long = (select concat(latitude,',',longitude));'''\n",
    "\n"
   ],
   "metadata": {
    "collapsed": false,
    "ExecuteTime": {
     "end_time": "2023-09-22T02:15:00.373861Z",
     "start_time": "2023-09-22T02:15:00.340216Z"
    }
   }
  },
  {
   "cell_type": "markdown",
   "source": [
    "## Step 3: Create DataFrame of Lat/Long and iterate to create API calls"
   ],
   "metadata": {
    "collapsed": false
   }
  },
  {
   "cell_type": "code",
   "execution_count": 35,
   "outputs": [
    {
     "data": {
      "text/plain": "   empty_slots  free_bikes                                id   latitude  \\\n0            5          29  7a19c49f486d7c0c02b3685d7b240448  49.262487   \n\n    longitude           name                   timestamp  extra_ebikes  \\\n0 -123.114397  10th & Cambie  2023-09-21 19:03:51.469000             6   \n\n   extra_has_ebikes  extra_last_updated               lat_long  \n0              True          1695322925  49.262487,-123.114397  ",
      "text/html": "<div>\n<style scoped>\n    .dataframe tbody tr th:only-of-type {\n        vertical-align: middle;\n    }\n\n    .dataframe tbody tr th {\n        vertical-align: top;\n    }\n\n    .dataframe thead th {\n        text-align: right;\n    }\n</style>\n<table border=\"1\" class=\"dataframe\">\n  <thead>\n    <tr style=\"text-align: right;\">\n      <th></th>\n      <th>empty_slots</th>\n      <th>free_bikes</th>\n      <th>id</th>\n      <th>latitude</th>\n      <th>longitude</th>\n      <th>name</th>\n      <th>timestamp</th>\n      <th>extra_ebikes</th>\n      <th>extra_has_ebikes</th>\n      <th>extra_last_updated</th>\n      <th>lat_long</th>\n    </tr>\n  </thead>\n  <tbody>\n    <tr>\n      <th>0</th>\n      <td>5</td>\n      <td>29</td>\n      <td>7a19c49f486d7c0c02b3685d7b240448</td>\n      <td>49.262487</td>\n      <td>-123.114397</td>\n      <td>10th &amp; Cambie</td>\n      <td>2023-09-21 19:03:51.469000</td>\n      <td>6</td>\n      <td>True</td>\n      <td>1695322925</td>\n      <td>49.262487,-123.114397</td>\n    </tr>\n  </tbody>\n</table>\n</div>"
     },
     "execution_count": 35,
     "metadata": {},
     "output_type": "execute_result"
    }
   ],
   "source": [
    "import pandas as pd\n",
    "\n",
    "data = pd.read_csv('../data/city_bikes.csv')\n",
    "vancouver_stations = pd.DataFrame(data)\n",
    "vancouver_stations_TEST= vancouver_stations.head(1)\n",
    "vancouver_stations_TEST\n"
   ],
   "metadata": {
    "collapsed": false,
    "ExecuteTime": {
     "end_time": "2023-09-23T01:14:13.514239Z",
     "start_time": "2023-09-23T01:14:13.500605Z"
    }
   }
  },
  {
   "cell_type": "markdown",
   "source": [
    "## Foursquare API and Dataframe\n",
    "### Code Overview (foursquare) \n",
    "* function takes lat and long and radius as arguments. \n",
    "* GET parameters include desired categories, and field information\n",
    "* API response (json) file is iterated to retrieve data (name, popularity, price etc)\n",
    "* data (dictionary) is appended to a list callled \"FS_API_result\"\n",
    "* List of lat/longs from CityBikes (vancouver_stations) is itererated.\n",
    "* Each lat/log in Vancouver_stations creates a new API call in the 'foursquare' function. \n",
    "* Results from each call (FS_API_Result) are in turn iterated and appended to the \"All Results\" list. \n",
    "* All_Results is a tidy dictionary that does not require json normalization. \n",
    "* DataFrame is created using All_Results dictionary. \n",
    "* DataFrame is dumped to json in ../data folder for future reference. \n"
   ],
   "metadata": {
    "collapsed": false
   }
  },
  {
   "cell_type": "code",
   "execution_count": 37,
   "outputs": [
    {
     "ename": "KeyboardInterrupt",
     "evalue": "",
     "output_type": "error",
     "traceback": [
      "\u001B[0;31m---------------------------------------------------------------------------\u001B[0m",
      "\u001B[0;31mKeyboardInterrupt\u001B[0m                         Traceback (most recent call last)",
      "Cell \u001B[0;32mIn[37], line 37\u001B[0m\n\u001B[1;32m     35\u001B[0m longitude \u001B[38;5;241m=\u001B[39m row[\u001B[38;5;124m'\u001B[39m\u001B[38;5;124mlongitude\u001B[39m\u001B[38;5;124m'\u001B[39m]\n\u001B[1;32m     36\u001B[0m station_id \u001B[38;5;241m=\u001B[39m row[\u001B[38;5;124m'\u001B[39m\u001B[38;5;124mid\u001B[39m\u001B[38;5;124m'\u001B[39m]\n\u001B[0;32m---> 37\u001B[0m result_list \u001B[38;5;241m=\u001B[39m \u001B[43mfoursquare\u001B[49m\u001B[43m(\u001B[49m\u001B[43mlatitude\u001B[49m\u001B[43m,\u001B[49m\u001B[43m \u001B[49m\u001B[43mlongitude\u001B[49m\u001B[43m,\u001B[49m\u001B[43m \u001B[49m\u001B[43mstation_id\u001B[49m\u001B[43m,\u001B[49m\u001B[43m \u001B[49m\u001B[38;5;241;43m1000\u001B[39;49m\u001B[43m)\u001B[49m\n\u001B[1;32m     39\u001B[0m \u001B[38;5;28;01mfor\u001B[39;00m result \u001B[38;5;129;01min\u001B[39;00m result_list:\n\u001B[1;32m     40\u001B[0m     \u001B[38;5;66;03m# Create a new dictionary with latitude and longitude, id of station, then update it with the result dictionary\u001B[39;00m\n\u001B[1;32m     41\u001B[0m     combined_result \u001B[38;5;241m=\u001B[39m {\u001B[38;5;124m'\u001B[39m\u001B[38;5;124mlatitude\u001B[39m\u001B[38;5;124m'\u001B[39m: latitude, \u001B[38;5;124m'\u001B[39m\u001B[38;5;124mlongitude\u001B[39m\u001B[38;5;124m'\u001B[39m: longitude, \u001B[38;5;124m'\u001B[39m\u001B[38;5;124mstation_id\u001B[39m\u001B[38;5;124m'\u001B[39m: station_id}\n",
      "Cell \u001B[0;32mIn[37], line 13\u001B[0m, in \u001B[0;36mfoursquare\u001B[0;34m(latitude, longitude, station_id, radius)\u001B[0m\n\u001B[1;32m     11\u001B[0m params \u001B[38;5;241m=\u001B[39m { \u001B[38;5;124m\"\u001B[39m\u001B[38;5;124mll\u001B[39m\u001B[38;5;124m\"\u001B[39m: \u001B[38;5;124mf\u001B[39m\u001B[38;5;124m\"\u001B[39m\u001B[38;5;132;01m{\u001B[39;00mlatitude\u001B[38;5;132;01m}\u001B[39;00m\u001B[38;5;124m,\u001B[39m\u001B[38;5;132;01m{\u001B[39;00mlongitude\u001B[38;5;132;01m}\u001B[39;00m\u001B[38;5;124m\"\u001B[39m, \u001B[38;5;124m\"\u001B[39m\u001B[38;5;124mradius\u001B[39m\u001B[38;5;124m\"\u001B[39m: radius, \u001B[38;5;124m\"\u001B[39m\u001B[38;5;124mcategories\u001B[39m\u001B[38;5;124m\"\u001B[39m: {category_filter},\u001B[38;5;124m'\u001B[39m\u001B[38;5;124mfields\u001B[39m\u001B[38;5;124m'\u001B[39m: \u001B[38;5;124m'\u001B[39m\u001B[38;5;124mname,popularity,rating,price,distance,fsq_id\u001B[39m\u001B[38;5;124m'\u001B[39m}\n\u001B[1;32m     12\u001B[0m headers \u001B[38;5;241m=\u001B[39m { \u001B[38;5;124m\"\u001B[39m\u001B[38;5;124mAccept\u001B[39m\u001B[38;5;124m\"\u001B[39m: \u001B[38;5;124m\"\u001B[39m\u001B[38;5;124mapplication/json\u001B[39m\u001B[38;5;124m\"\u001B[39m, \u001B[38;5;124m\"\u001B[39m\u001B[38;5;124mAuthorization\u001B[39m\u001B[38;5;124m\"\u001B[39m: FS_API_KEY }\n\u001B[0;32m---> 13\u001B[0m response \u001B[38;5;241m=\u001B[39m \u001B[43mrequests\u001B[49m\u001B[38;5;241;43m.\u001B[39;49m\u001B[43mget\u001B[49m\u001B[43m(\u001B[49m\u001B[43murl\u001B[49m\u001B[43m,\u001B[49m\u001B[43m \u001B[49m\u001B[43mparams\u001B[49m\u001B[38;5;241;43m=\u001B[39;49m\u001B[43mparams\u001B[49m\u001B[43m,\u001B[49m\u001B[43m \u001B[49m\u001B[43mheaders\u001B[49m\u001B[38;5;241;43m=\u001B[39;49m\u001B[43mheaders\u001B[49m\u001B[43m)\u001B[49m\n\u001B[1;32m     15\u001B[0m \u001B[38;5;28;01mif\u001B[39;00m response\u001B[38;5;241m.\u001B[39mstatus_code \u001B[38;5;241m!=\u001B[39m \u001B[38;5;241m200\u001B[39m:\n\u001B[1;32m     16\u001B[0m     \u001B[38;5;28;01mreturn\u001B[39;00m \u001B[38;5;124mf\u001B[39m\u001B[38;5;124m\"\u001B[39m\u001B[38;5;124mError: \u001B[39m\u001B[38;5;132;01m{\u001B[39;00mresponse\u001B[38;5;241m.\u001B[39mstatus_code\u001B[38;5;132;01m}\u001B[39;00m\u001B[38;5;124m\"\u001B[39m\n",
      "File \u001B[0;32m/opt/homebrew/Caskroom/miniforge/base/envs/LHL_env/lib/python3.9/site-packages/requests/api.py:73\u001B[0m, in \u001B[0;36mget\u001B[0;34m(url, params, **kwargs)\u001B[0m\n\u001B[1;32m     62\u001B[0m \u001B[38;5;28;01mdef\u001B[39;00m \u001B[38;5;21mget\u001B[39m(url, params\u001B[38;5;241m=\u001B[39m\u001B[38;5;28;01mNone\u001B[39;00m, \u001B[38;5;241m*\u001B[39m\u001B[38;5;241m*\u001B[39mkwargs):\n\u001B[1;32m     63\u001B[0m \u001B[38;5;250m    \u001B[39m\u001B[38;5;124mr\u001B[39m\u001B[38;5;124;03m\"\"\"Sends a GET request.\u001B[39;00m\n\u001B[1;32m     64\u001B[0m \n\u001B[1;32m     65\u001B[0m \u001B[38;5;124;03m    :param url: URL for the new :class:`Request` object.\u001B[39;00m\n\u001B[0;32m   (...)\u001B[0m\n\u001B[1;32m     70\u001B[0m \u001B[38;5;124;03m    :rtype: requests.Response\u001B[39;00m\n\u001B[1;32m     71\u001B[0m \u001B[38;5;124;03m    \"\"\"\u001B[39;00m\n\u001B[0;32m---> 73\u001B[0m     \u001B[38;5;28;01mreturn\u001B[39;00m \u001B[43mrequest\u001B[49m\u001B[43m(\u001B[49m\u001B[38;5;124;43m\"\u001B[39;49m\u001B[38;5;124;43mget\u001B[39;49m\u001B[38;5;124;43m\"\u001B[39;49m\u001B[43m,\u001B[49m\u001B[43m \u001B[49m\u001B[43murl\u001B[49m\u001B[43m,\u001B[49m\u001B[43m \u001B[49m\u001B[43mparams\u001B[49m\u001B[38;5;241;43m=\u001B[39;49m\u001B[43mparams\u001B[49m\u001B[43m,\u001B[49m\u001B[43m \u001B[49m\u001B[38;5;241;43m*\u001B[39;49m\u001B[38;5;241;43m*\u001B[39;49m\u001B[43mkwargs\u001B[49m\u001B[43m)\u001B[49m\n",
      "File \u001B[0;32m/opt/homebrew/Caskroom/miniforge/base/envs/LHL_env/lib/python3.9/site-packages/requests/api.py:59\u001B[0m, in \u001B[0;36mrequest\u001B[0;34m(method, url, **kwargs)\u001B[0m\n\u001B[1;32m     55\u001B[0m \u001B[38;5;66;03m# By using the 'with' statement we are sure the session is closed, thus we\u001B[39;00m\n\u001B[1;32m     56\u001B[0m \u001B[38;5;66;03m# avoid leaving sockets open which can trigger a ResourceWarning in some\u001B[39;00m\n\u001B[1;32m     57\u001B[0m \u001B[38;5;66;03m# cases, and look like a memory leak in others.\u001B[39;00m\n\u001B[1;32m     58\u001B[0m \u001B[38;5;28;01mwith\u001B[39;00m sessions\u001B[38;5;241m.\u001B[39mSession() \u001B[38;5;28;01mas\u001B[39;00m session:\n\u001B[0;32m---> 59\u001B[0m     \u001B[38;5;28;01mreturn\u001B[39;00m \u001B[43msession\u001B[49m\u001B[38;5;241;43m.\u001B[39;49m\u001B[43mrequest\u001B[49m\u001B[43m(\u001B[49m\u001B[43mmethod\u001B[49m\u001B[38;5;241;43m=\u001B[39;49m\u001B[43mmethod\u001B[49m\u001B[43m,\u001B[49m\u001B[43m \u001B[49m\u001B[43murl\u001B[49m\u001B[38;5;241;43m=\u001B[39;49m\u001B[43murl\u001B[49m\u001B[43m,\u001B[49m\u001B[43m \u001B[49m\u001B[38;5;241;43m*\u001B[39;49m\u001B[38;5;241;43m*\u001B[39;49m\u001B[43mkwargs\u001B[49m\u001B[43m)\u001B[49m\n",
      "File \u001B[0;32m/opt/homebrew/Caskroom/miniforge/base/envs/LHL_env/lib/python3.9/site-packages/requests/sessions.py:589\u001B[0m, in \u001B[0;36mSession.request\u001B[0;34m(self, method, url, params, data, headers, cookies, files, auth, timeout, allow_redirects, proxies, hooks, stream, verify, cert, json)\u001B[0m\n\u001B[1;32m    584\u001B[0m send_kwargs \u001B[38;5;241m=\u001B[39m {\n\u001B[1;32m    585\u001B[0m     \u001B[38;5;124m\"\u001B[39m\u001B[38;5;124mtimeout\u001B[39m\u001B[38;5;124m\"\u001B[39m: timeout,\n\u001B[1;32m    586\u001B[0m     \u001B[38;5;124m\"\u001B[39m\u001B[38;5;124mallow_redirects\u001B[39m\u001B[38;5;124m\"\u001B[39m: allow_redirects,\n\u001B[1;32m    587\u001B[0m }\n\u001B[1;32m    588\u001B[0m send_kwargs\u001B[38;5;241m.\u001B[39mupdate(settings)\n\u001B[0;32m--> 589\u001B[0m resp \u001B[38;5;241m=\u001B[39m \u001B[38;5;28;43mself\u001B[39;49m\u001B[38;5;241;43m.\u001B[39;49m\u001B[43msend\u001B[49m\u001B[43m(\u001B[49m\u001B[43mprep\u001B[49m\u001B[43m,\u001B[49m\u001B[43m \u001B[49m\u001B[38;5;241;43m*\u001B[39;49m\u001B[38;5;241;43m*\u001B[39;49m\u001B[43msend_kwargs\u001B[49m\u001B[43m)\u001B[49m\n\u001B[1;32m    591\u001B[0m \u001B[38;5;28;01mreturn\u001B[39;00m resp\n",
      "File \u001B[0;32m/opt/homebrew/Caskroom/miniforge/base/envs/LHL_env/lib/python3.9/site-packages/requests/sessions.py:703\u001B[0m, in \u001B[0;36mSession.send\u001B[0;34m(self, request, **kwargs)\u001B[0m\n\u001B[1;32m    700\u001B[0m start \u001B[38;5;241m=\u001B[39m preferred_clock()\n\u001B[1;32m    702\u001B[0m \u001B[38;5;66;03m# Send the request\u001B[39;00m\n\u001B[0;32m--> 703\u001B[0m r \u001B[38;5;241m=\u001B[39m \u001B[43madapter\u001B[49m\u001B[38;5;241;43m.\u001B[39;49m\u001B[43msend\u001B[49m\u001B[43m(\u001B[49m\u001B[43mrequest\u001B[49m\u001B[43m,\u001B[49m\u001B[43m \u001B[49m\u001B[38;5;241;43m*\u001B[39;49m\u001B[38;5;241;43m*\u001B[39;49m\u001B[43mkwargs\u001B[49m\u001B[43m)\u001B[49m\n\u001B[1;32m    705\u001B[0m \u001B[38;5;66;03m# Total elapsed time of the request (approximately)\u001B[39;00m\n\u001B[1;32m    706\u001B[0m elapsed \u001B[38;5;241m=\u001B[39m preferred_clock() \u001B[38;5;241m-\u001B[39m start\n",
      "File \u001B[0;32m/opt/homebrew/Caskroom/miniforge/base/envs/LHL_env/lib/python3.9/site-packages/requests/adapters.py:486\u001B[0m, in \u001B[0;36mHTTPAdapter.send\u001B[0;34m(self, request, stream, timeout, verify, cert, proxies)\u001B[0m\n\u001B[1;32m    483\u001B[0m     timeout \u001B[38;5;241m=\u001B[39m TimeoutSauce(connect\u001B[38;5;241m=\u001B[39mtimeout, read\u001B[38;5;241m=\u001B[39mtimeout)\n\u001B[1;32m    485\u001B[0m \u001B[38;5;28;01mtry\u001B[39;00m:\n\u001B[0;32m--> 486\u001B[0m     resp \u001B[38;5;241m=\u001B[39m \u001B[43mconn\u001B[49m\u001B[38;5;241;43m.\u001B[39;49m\u001B[43murlopen\u001B[49m\u001B[43m(\u001B[49m\n\u001B[1;32m    487\u001B[0m \u001B[43m        \u001B[49m\u001B[43mmethod\u001B[49m\u001B[38;5;241;43m=\u001B[39;49m\u001B[43mrequest\u001B[49m\u001B[38;5;241;43m.\u001B[39;49m\u001B[43mmethod\u001B[49m\u001B[43m,\u001B[49m\n\u001B[1;32m    488\u001B[0m \u001B[43m        \u001B[49m\u001B[43murl\u001B[49m\u001B[38;5;241;43m=\u001B[39;49m\u001B[43murl\u001B[49m\u001B[43m,\u001B[49m\n\u001B[1;32m    489\u001B[0m \u001B[43m        \u001B[49m\u001B[43mbody\u001B[49m\u001B[38;5;241;43m=\u001B[39;49m\u001B[43mrequest\u001B[49m\u001B[38;5;241;43m.\u001B[39;49m\u001B[43mbody\u001B[49m\u001B[43m,\u001B[49m\n\u001B[1;32m    490\u001B[0m \u001B[43m        \u001B[49m\u001B[43mheaders\u001B[49m\u001B[38;5;241;43m=\u001B[39;49m\u001B[43mrequest\u001B[49m\u001B[38;5;241;43m.\u001B[39;49m\u001B[43mheaders\u001B[49m\u001B[43m,\u001B[49m\n\u001B[1;32m    491\u001B[0m \u001B[43m        \u001B[49m\u001B[43mredirect\u001B[49m\u001B[38;5;241;43m=\u001B[39;49m\u001B[38;5;28;43;01mFalse\u001B[39;49;00m\u001B[43m,\u001B[49m\n\u001B[1;32m    492\u001B[0m \u001B[43m        \u001B[49m\u001B[43massert_same_host\u001B[49m\u001B[38;5;241;43m=\u001B[39;49m\u001B[38;5;28;43;01mFalse\u001B[39;49;00m\u001B[43m,\u001B[49m\n\u001B[1;32m    493\u001B[0m \u001B[43m        \u001B[49m\u001B[43mpreload_content\u001B[49m\u001B[38;5;241;43m=\u001B[39;49m\u001B[38;5;28;43;01mFalse\u001B[39;49;00m\u001B[43m,\u001B[49m\n\u001B[1;32m    494\u001B[0m \u001B[43m        \u001B[49m\u001B[43mdecode_content\u001B[49m\u001B[38;5;241;43m=\u001B[39;49m\u001B[38;5;28;43;01mFalse\u001B[39;49;00m\u001B[43m,\u001B[49m\n\u001B[1;32m    495\u001B[0m \u001B[43m        \u001B[49m\u001B[43mretries\u001B[49m\u001B[38;5;241;43m=\u001B[39;49m\u001B[38;5;28;43mself\u001B[39;49m\u001B[38;5;241;43m.\u001B[39;49m\u001B[43mmax_retries\u001B[49m\u001B[43m,\u001B[49m\n\u001B[1;32m    496\u001B[0m \u001B[43m        \u001B[49m\u001B[43mtimeout\u001B[49m\u001B[38;5;241;43m=\u001B[39;49m\u001B[43mtimeout\u001B[49m\u001B[43m,\u001B[49m\n\u001B[1;32m    497\u001B[0m \u001B[43m        \u001B[49m\u001B[43mchunked\u001B[49m\u001B[38;5;241;43m=\u001B[39;49m\u001B[43mchunked\u001B[49m\u001B[43m,\u001B[49m\n\u001B[1;32m    498\u001B[0m \u001B[43m    \u001B[49m\u001B[43m)\u001B[49m\n\u001B[1;32m    500\u001B[0m \u001B[38;5;28;01mexcept\u001B[39;00m (ProtocolError, \u001B[38;5;167;01mOSError\u001B[39;00m) \u001B[38;5;28;01mas\u001B[39;00m err:\n\u001B[1;32m    501\u001B[0m     \u001B[38;5;28;01mraise\u001B[39;00m \u001B[38;5;167;01mConnectionError\u001B[39;00m(err, request\u001B[38;5;241m=\u001B[39mrequest)\n",
      "File \u001B[0;32m/opt/homebrew/Caskroom/miniforge/base/envs/LHL_env/lib/python3.9/site-packages/urllib3/connectionpool.py:790\u001B[0m, in \u001B[0;36mHTTPConnectionPool.urlopen\u001B[0;34m(self, method, url, body, headers, retries, redirect, assert_same_host, timeout, pool_timeout, release_conn, chunked, body_pos, preload_content, decode_content, **response_kw)\u001B[0m\n\u001B[1;32m    787\u001B[0m response_conn \u001B[38;5;241m=\u001B[39m conn \u001B[38;5;28;01mif\u001B[39;00m \u001B[38;5;129;01mnot\u001B[39;00m release_conn \u001B[38;5;28;01melse\u001B[39;00m \u001B[38;5;28;01mNone\u001B[39;00m\n\u001B[1;32m    789\u001B[0m \u001B[38;5;66;03m# Make the request on the HTTPConnection object\u001B[39;00m\n\u001B[0;32m--> 790\u001B[0m response \u001B[38;5;241m=\u001B[39m \u001B[38;5;28;43mself\u001B[39;49m\u001B[38;5;241;43m.\u001B[39;49m\u001B[43m_make_request\u001B[49m\u001B[43m(\u001B[49m\n\u001B[1;32m    791\u001B[0m \u001B[43m    \u001B[49m\u001B[43mconn\u001B[49m\u001B[43m,\u001B[49m\n\u001B[1;32m    792\u001B[0m \u001B[43m    \u001B[49m\u001B[43mmethod\u001B[49m\u001B[43m,\u001B[49m\n\u001B[1;32m    793\u001B[0m \u001B[43m    \u001B[49m\u001B[43murl\u001B[49m\u001B[43m,\u001B[49m\n\u001B[1;32m    794\u001B[0m \u001B[43m    \u001B[49m\u001B[43mtimeout\u001B[49m\u001B[38;5;241;43m=\u001B[39;49m\u001B[43mtimeout_obj\u001B[49m\u001B[43m,\u001B[49m\n\u001B[1;32m    795\u001B[0m \u001B[43m    \u001B[49m\u001B[43mbody\u001B[49m\u001B[38;5;241;43m=\u001B[39;49m\u001B[43mbody\u001B[49m\u001B[43m,\u001B[49m\n\u001B[1;32m    796\u001B[0m \u001B[43m    \u001B[49m\u001B[43mheaders\u001B[49m\u001B[38;5;241;43m=\u001B[39;49m\u001B[43mheaders\u001B[49m\u001B[43m,\u001B[49m\n\u001B[1;32m    797\u001B[0m \u001B[43m    \u001B[49m\u001B[43mchunked\u001B[49m\u001B[38;5;241;43m=\u001B[39;49m\u001B[43mchunked\u001B[49m\u001B[43m,\u001B[49m\n\u001B[1;32m    798\u001B[0m \u001B[43m    \u001B[49m\u001B[43mretries\u001B[49m\u001B[38;5;241;43m=\u001B[39;49m\u001B[43mretries\u001B[49m\u001B[43m,\u001B[49m\n\u001B[1;32m    799\u001B[0m \u001B[43m    \u001B[49m\u001B[43mresponse_conn\u001B[49m\u001B[38;5;241;43m=\u001B[39;49m\u001B[43mresponse_conn\u001B[49m\u001B[43m,\u001B[49m\n\u001B[1;32m    800\u001B[0m \u001B[43m    \u001B[49m\u001B[43mpreload_content\u001B[49m\u001B[38;5;241;43m=\u001B[39;49m\u001B[43mpreload_content\u001B[49m\u001B[43m,\u001B[49m\n\u001B[1;32m    801\u001B[0m \u001B[43m    \u001B[49m\u001B[43mdecode_content\u001B[49m\u001B[38;5;241;43m=\u001B[39;49m\u001B[43mdecode_content\u001B[49m\u001B[43m,\u001B[49m\n\u001B[1;32m    802\u001B[0m \u001B[43m    \u001B[49m\u001B[38;5;241;43m*\u001B[39;49m\u001B[38;5;241;43m*\u001B[39;49m\u001B[43mresponse_kw\u001B[49m\u001B[43m,\u001B[49m\n\u001B[1;32m    803\u001B[0m \u001B[43m\u001B[49m\u001B[43m)\u001B[49m\n\u001B[1;32m    805\u001B[0m \u001B[38;5;66;03m# Everything went great!\u001B[39;00m\n\u001B[1;32m    806\u001B[0m clean_exit \u001B[38;5;241m=\u001B[39m \u001B[38;5;28;01mTrue\u001B[39;00m\n",
      "File \u001B[0;32m/opt/homebrew/Caskroom/miniforge/base/envs/LHL_env/lib/python3.9/site-packages/urllib3/connectionpool.py:536\u001B[0m, in \u001B[0;36mHTTPConnectionPool._make_request\u001B[0;34m(self, conn, method, url, body, headers, retries, timeout, chunked, response_conn, preload_content, decode_content, enforce_content_length)\u001B[0m\n\u001B[1;32m    534\u001B[0m \u001B[38;5;66;03m# Receive the response from the server\u001B[39;00m\n\u001B[1;32m    535\u001B[0m \u001B[38;5;28;01mtry\u001B[39;00m:\n\u001B[0;32m--> 536\u001B[0m     response \u001B[38;5;241m=\u001B[39m \u001B[43mconn\u001B[49m\u001B[38;5;241;43m.\u001B[39;49m\u001B[43mgetresponse\u001B[49m\u001B[43m(\u001B[49m\u001B[43m)\u001B[49m\n\u001B[1;32m    537\u001B[0m \u001B[38;5;28;01mexcept\u001B[39;00m (BaseSSLError, \u001B[38;5;167;01mOSError\u001B[39;00m) \u001B[38;5;28;01mas\u001B[39;00m e:\n\u001B[1;32m    538\u001B[0m     \u001B[38;5;28mself\u001B[39m\u001B[38;5;241m.\u001B[39m_raise_timeout(err\u001B[38;5;241m=\u001B[39me, url\u001B[38;5;241m=\u001B[39murl, timeout_value\u001B[38;5;241m=\u001B[39mread_timeout)\n",
      "File \u001B[0;32m/opt/homebrew/Caskroom/miniforge/base/envs/LHL_env/lib/python3.9/site-packages/urllib3/connection.py:461\u001B[0m, in \u001B[0;36mHTTPConnection.getresponse\u001B[0;34m(self)\u001B[0m\n\u001B[1;32m    458\u001B[0m \u001B[38;5;28;01mfrom\u001B[39;00m \u001B[38;5;21;01m.\u001B[39;00m\u001B[38;5;21;01mresponse\u001B[39;00m \u001B[38;5;28;01mimport\u001B[39;00m HTTPResponse\n\u001B[1;32m    460\u001B[0m \u001B[38;5;66;03m# Get the response from http.client.HTTPConnection\u001B[39;00m\n\u001B[0;32m--> 461\u001B[0m httplib_response \u001B[38;5;241m=\u001B[39m \u001B[38;5;28;43msuper\u001B[39;49m\u001B[43m(\u001B[49m\u001B[43m)\u001B[49m\u001B[38;5;241;43m.\u001B[39;49m\u001B[43mgetresponse\u001B[49m\u001B[43m(\u001B[49m\u001B[43m)\u001B[49m\n\u001B[1;32m    463\u001B[0m \u001B[38;5;28;01mtry\u001B[39;00m:\n\u001B[1;32m    464\u001B[0m     assert_header_parsing(httplib_response\u001B[38;5;241m.\u001B[39mmsg)\n",
      "File \u001B[0;32m/opt/homebrew/Caskroom/miniforge/base/envs/LHL_env/lib/python3.9/http/client.py:1371\u001B[0m, in \u001B[0;36mHTTPConnection.getresponse\u001B[0;34m(self)\u001B[0m\n\u001B[1;32m   1369\u001B[0m \u001B[38;5;28;01mtry\u001B[39;00m:\n\u001B[1;32m   1370\u001B[0m     \u001B[38;5;28;01mtry\u001B[39;00m:\n\u001B[0;32m-> 1371\u001B[0m         \u001B[43mresponse\u001B[49m\u001B[38;5;241;43m.\u001B[39;49m\u001B[43mbegin\u001B[49m\u001B[43m(\u001B[49m\u001B[43m)\u001B[49m\n\u001B[1;32m   1372\u001B[0m     \u001B[38;5;28;01mexcept\u001B[39;00m \u001B[38;5;167;01mConnectionError\u001B[39;00m:\n\u001B[1;32m   1373\u001B[0m         \u001B[38;5;28mself\u001B[39m\u001B[38;5;241m.\u001B[39mclose()\n",
      "File \u001B[0;32m/opt/homebrew/Caskroom/miniforge/base/envs/LHL_env/lib/python3.9/http/client.py:319\u001B[0m, in \u001B[0;36mHTTPResponse.begin\u001B[0;34m(self)\u001B[0m\n\u001B[1;32m    317\u001B[0m \u001B[38;5;66;03m# read until we get a non-100 response\u001B[39;00m\n\u001B[1;32m    318\u001B[0m \u001B[38;5;28;01mwhile\u001B[39;00m \u001B[38;5;28;01mTrue\u001B[39;00m:\n\u001B[0;32m--> 319\u001B[0m     version, status, reason \u001B[38;5;241m=\u001B[39m \u001B[38;5;28;43mself\u001B[39;49m\u001B[38;5;241;43m.\u001B[39;49m\u001B[43m_read_status\u001B[49m\u001B[43m(\u001B[49m\u001B[43m)\u001B[49m\n\u001B[1;32m    320\u001B[0m     \u001B[38;5;28;01mif\u001B[39;00m status \u001B[38;5;241m!=\u001B[39m CONTINUE:\n\u001B[1;32m    321\u001B[0m         \u001B[38;5;28;01mbreak\u001B[39;00m\n",
      "File \u001B[0;32m/opt/homebrew/Caskroom/miniforge/base/envs/LHL_env/lib/python3.9/http/client.py:280\u001B[0m, in \u001B[0;36mHTTPResponse._read_status\u001B[0;34m(self)\u001B[0m\n\u001B[1;32m    279\u001B[0m \u001B[38;5;28;01mdef\u001B[39;00m \u001B[38;5;21m_read_status\u001B[39m(\u001B[38;5;28mself\u001B[39m):\n\u001B[0;32m--> 280\u001B[0m     line \u001B[38;5;241m=\u001B[39m \u001B[38;5;28mstr\u001B[39m(\u001B[38;5;28;43mself\u001B[39;49m\u001B[38;5;241;43m.\u001B[39;49m\u001B[43mfp\u001B[49m\u001B[38;5;241;43m.\u001B[39;49m\u001B[43mreadline\u001B[49m\u001B[43m(\u001B[49m\u001B[43m_MAXLINE\u001B[49m\u001B[43m \u001B[49m\u001B[38;5;241;43m+\u001B[39;49m\u001B[43m \u001B[49m\u001B[38;5;241;43m1\u001B[39;49m\u001B[43m)\u001B[49m, \u001B[38;5;124m\"\u001B[39m\u001B[38;5;124miso-8859-1\u001B[39m\u001B[38;5;124m\"\u001B[39m)\n\u001B[1;32m    281\u001B[0m     \u001B[38;5;28;01mif\u001B[39;00m \u001B[38;5;28mlen\u001B[39m(line) \u001B[38;5;241m>\u001B[39m _MAXLINE:\n\u001B[1;32m    282\u001B[0m         \u001B[38;5;28;01mraise\u001B[39;00m LineTooLong(\u001B[38;5;124m\"\u001B[39m\u001B[38;5;124mstatus line\u001B[39m\u001B[38;5;124m\"\u001B[39m)\n",
      "File \u001B[0;32m/opt/homebrew/Caskroom/miniforge/base/envs/LHL_env/lib/python3.9/socket.py:704\u001B[0m, in \u001B[0;36mSocketIO.readinto\u001B[0;34m(self, b)\u001B[0m\n\u001B[1;32m    702\u001B[0m \u001B[38;5;28;01mwhile\u001B[39;00m \u001B[38;5;28;01mTrue\u001B[39;00m:\n\u001B[1;32m    703\u001B[0m     \u001B[38;5;28;01mtry\u001B[39;00m:\n\u001B[0;32m--> 704\u001B[0m         \u001B[38;5;28;01mreturn\u001B[39;00m \u001B[38;5;28;43mself\u001B[39;49m\u001B[38;5;241;43m.\u001B[39;49m\u001B[43m_sock\u001B[49m\u001B[38;5;241;43m.\u001B[39;49m\u001B[43mrecv_into\u001B[49m\u001B[43m(\u001B[49m\u001B[43mb\u001B[49m\u001B[43m)\u001B[49m\n\u001B[1;32m    705\u001B[0m     \u001B[38;5;28;01mexcept\u001B[39;00m timeout:\n\u001B[1;32m    706\u001B[0m         \u001B[38;5;28mself\u001B[39m\u001B[38;5;241m.\u001B[39m_timeout_occurred \u001B[38;5;241m=\u001B[39m \u001B[38;5;28;01mTrue\u001B[39;00m\n",
      "File \u001B[0;32m/opt/homebrew/Caskroom/miniforge/base/envs/LHL_env/lib/python3.9/ssl.py:1241\u001B[0m, in \u001B[0;36mSSLSocket.recv_into\u001B[0;34m(self, buffer, nbytes, flags)\u001B[0m\n\u001B[1;32m   1237\u001B[0m     \u001B[38;5;28;01mif\u001B[39;00m flags \u001B[38;5;241m!=\u001B[39m \u001B[38;5;241m0\u001B[39m:\n\u001B[1;32m   1238\u001B[0m         \u001B[38;5;28;01mraise\u001B[39;00m \u001B[38;5;167;01mValueError\u001B[39;00m(\n\u001B[1;32m   1239\u001B[0m           \u001B[38;5;124m\"\u001B[39m\u001B[38;5;124mnon-zero flags not allowed in calls to recv_into() on \u001B[39m\u001B[38;5;132;01m%s\u001B[39;00m\u001B[38;5;124m\"\u001B[39m \u001B[38;5;241m%\u001B[39m\n\u001B[1;32m   1240\u001B[0m           \u001B[38;5;28mself\u001B[39m\u001B[38;5;241m.\u001B[39m\u001B[38;5;18m__class__\u001B[39m)\n\u001B[0;32m-> 1241\u001B[0m     \u001B[38;5;28;01mreturn\u001B[39;00m \u001B[38;5;28;43mself\u001B[39;49m\u001B[38;5;241;43m.\u001B[39;49m\u001B[43mread\u001B[49m\u001B[43m(\u001B[49m\u001B[43mnbytes\u001B[49m\u001B[43m,\u001B[49m\u001B[43m \u001B[49m\u001B[43mbuffer\u001B[49m\u001B[43m)\u001B[49m\n\u001B[1;32m   1242\u001B[0m \u001B[38;5;28;01melse\u001B[39;00m:\n\u001B[1;32m   1243\u001B[0m     \u001B[38;5;28;01mreturn\u001B[39;00m \u001B[38;5;28msuper\u001B[39m()\u001B[38;5;241m.\u001B[39mrecv_into(buffer, nbytes, flags)\n",
      "File \u001B[0;32m/opt/homebrew/Caskroom/miniforge/base/envs/LHL_env/lib/python3.9/ssl.py:1099\u001B[0m, in \u001B[0;36mSSLSocket.read\u001B[0;34m(self, len, buffer)\u001B[0m\n\u001B[1;32m   1097\u001B[0m \u001B[38;5;28;01mtry\u001B[39;00m:\n\u001B[1;32m   1098\u001B[0m     \u001B[38;5;28;01mif\u001B[39;00m buffer \u001B[38;5;129;01mis\u001B[39;00m \u001B[38;5;129;01mnot\u001B[39;00m \u001B[38;5;28;01mNone\u001B[39;00m:\n\u001B[0;32m-> 1099\u001B[0m         \u001B[38;5;28;01mreturn\u001B[39;00m \u001B[38;5;28;43mself\u001B[39;49m\u001B[38;5;241;43m.\u001B[39;49m\u001B[43m_sslobj\u001B[49m\u001B[38;5;241;43m.\u001B[39;49m\u001B[43mread\u001B[49m\u001B[43m(\u001B[49m\u001B[38;5;28;43mlen\u001B[39;49m\u001B[43m,\u001B[49m\u001B[43m \u001B[49m\u001B[43mbuffer\u001B[49m\u001B[43m)\u001B[49m\n\u001B[1;32m   1100\u001B[0m     \u001B[38;5;28;01melse\u001B[39;00m:\n\u001B[1;32m   1101\u001B[0m         \u001B[38;5;28;01mreturn\u001B[39;00m \u001B[38;5;28mself\u001B[39m\u001B[38;5;241m.\u001B[39m_sslobj\u001B[38;5;241m.\u001B[39mread(\u001B[38;5;28mlen\u001B[39m)\n",
      "\u001B[0;31mKeyboardInterrupt\u001B[0m: "
     ]
    }
   ],
   "source": [
    "import requests\n",
    "import os\n",
    "\n",
    "FS_API_KEY = os.getenv('FOURSQUARE_API_KEY')\n",
    "def foursquare(latitude, longitude,station_id, radius):\n",
    "    ## Initialize an empty list to store the results\n",
    "    FS_API_Result = []\n",
    "    \n",
    "    url = 'https://api.foursquare.com/v3/places/search'\n",
    "    category_filter = \"11062,13003,13004,13005,13006,13007,13008,13009,13010,13011,13012,13013,13014,13015,13016,13017,13018,13019,13020,13021,13022,13023,13024,13025,13059\"\n",
    "    params = { \"ll\": f\"{latitude},{longitude}\", \"radius\": radius, \"categories\": {category_filter},'fields': 'name,popularity,rating,price,distance,fsq_id'}\n",
    "    headers = { \"Accept\": \"application/json\", \"Authorization\": FS_API_KEY }\n",
    "    response = requests.get(url, params=params, headers=headers)\n",
    "    \n",
    "    if response.status_code != 200:\n",
    "        return f\"Error: {response.status_code}\"\n",
    "    else:\n",
    "        data = response.json()\n",
    "        for i in data['results']:\n",
    "            details = {\n",
    "            'name': i.get('name', None),\n",
    "            'popularity': i.get('popularity', None),\n",
    "            'rating': i.get('rating', None),\n",
    "            'price': i.get('price', None),\n",
    "            'distance': i.get('distance', None),\n",
    "            'fsq_id': i.get('fsq_id', None)\n",
    "        }\n",
    "            FS_API_Result.append(details)\n",
    "        return FS_API_Result\n",
    "\n",
    "all_results = []  # Initialize empty list to accumulate results from each API call.\n",
    "    ## Loop latitude,longitude from station to get details\n",
    "for index, row in vancouver_stations.iterrows():\n",
    "    latitude = row['latitude']\n",
    "    longitude = row['longitude']\n",
    "    station_id = row['id']\n",
    "    result_list = foursquare(latitude, longitude, station_id, 1000)\n",
    "\n",
    "    for result in result_list:\n",
    "        # Create a new dictionary with latitude and longitude, id of station, then update it with the result dictionary\n",
    "        combined_result = {'latitude': latitude, 'longitude': longitude, 'station_id': station_id}\n",
    "        combined_result.update(result)\n",
    "        \n",
    "    ## Append the combined dictionary to 'all_results'\n",
    "    all_results.append(combined_result)\n",
    "print(all_results)"
   ],
   "metadata": {
    "collapsed": false,
    "ExecuteTime": {
     "end_time": "2023-09-23T01:28:11.635455Z",
     "start_time": "2023-09-23T01:27:54.018440Z"
    }
   }
  },
  {
   "cell_type": "code",
   "execution_count": null,
   "outputs": [],
   "source": [
    "## Convert the 'all_results' list of dictionaries to a DataFrame"
   ],
   "metadata": {
    "collapsed": false
   }
  },
  {
   "cell_type": "code",
   "execution_count": 113,
   "outputs": [
    {
     "data": {
      "text/plain": "      latitude   longitude                        station_id  \\\n0    49.262487 -123.114397  7a19c49f486d7c0c02b3685d7b240448   \n1    49.274566 -123.121817  32603a87cfca71d0f7dfa3513bad69d5   \n2    49.279764 -123.110154  6d42fa40360f9a6b2bf641c7b8bb2862   \n3    49.260599 -123.113504  66f873d641d448bd1572ab086665a458   \n4    49.264215 -123.117772  485d4d24c803cfde829ab89699fed833   \n..         ...         ...                               ...   \n240  49.280977 -123.035969  a74744ce4bb7ea2aa9f406ac8bff95d8   \n241  49.270783 -123.141564  5699b40126e10c2f68eefc3eb18ff3a1   \n242  49.264019 -123.209176  34fd37d12eb989b49518ef53941ee3ff   \n243  49.265800 -123.205960  b7dd37a7dd668d6d10024b7f18acc438   \n244  49.265442 -123.187738  cc25ae4f093b33ba0afd1dbc0dd20324   \n\n                                                  name  popularity  rating  \\\n0                                        Mahony & Sons    0.995269     7.4   \n1    Localcoin Bitcoin ATM - Red Card Sports Bar + ...    0.951660     7.6   \n2                                            Six Acres    0.938771     8.1   \n3                                   Sing Sing Beer Bar    0.987130     7.4   \n4                    Victoria's Health and Organic Bar    0.090797     NaN   \n..                                                 ...         ...     ...   \n240                              The Rustic Llama Cafe    0.873353     NaN   \n241                                         Lucky Taco    0.869412     6.7   \n242                                    Varsity Barbers    0.751961     NaN   \n243                                     The Good Stuff    0.769515     NaN   \n244                                 Nick's Barber Shop    0.794856     NaN   \n\n     price  distance                    fsq_id  \n0      NaN       811  53eee0b9498e381a6c7eaa98  \n1      1.0       565  4b182f85f964a52085ce23e3  \n2      1.0       582  4aa7329cf964a5203f4c20e3  \n3      NaN       921  5c6f3cc2c03635002c74c211  \n4      1.0       131  58f13221419a9e1e24489f12  \n..     ...       ...                       ...  \n240    1.0       870  4e9f85bf30f854cd9bf64a29  \n241    1.0       981  57b26a56cd104357811923e4  \n242    NaN       282  509ad61591d477646f22cb2f  \n243    NaN       335  5978d136851de569bc454a8a  \n244    NaN       885  4d31ef57b6093704ac58f1df  \n\n[245 rows x 9 columns]",
      "text/html": "<div>\n<style scoped>\n    .dataframe tbody tr th:only-of-type {\n        vertical-align: middle;\n    }\n\n    .dataframe tbody tr th {\n        vertical-align: top;\n    }\n\n    .dataframe thead th {\n        text-align: right;\n    }\n</style>\n<table border=\"1\" class=\"dataframe\">\n  <thead>\n    <tr style=\"text-align: right;\">\n      <th></th>\n      <th>latitude</th>\n      <th>longitude</th>\n      <th>station_id</th>\n      <th>name</th>\n      <th>popularity</th>\n      <th>rating</th>\n      <th>price</th>\n      <th>distance</th>\n      <th>fsq_id</th>\n    </tr>\n  </thead>\n  <tbody>\n    <tr>\n      <th>0</th>\n      <td>49.262487</td>\n      <td>-123.114397</td>\n      <td>7a19c49f486d7c0c02b3685d7b240448</td>\n      <td>Mahony &amp; Sons</td>\n      <td>0.995269</td>\n      <td>7.4</td>\n      <td>NaN</td>\n      <td>811</td>\n      <td>53eee0b9498e381a6c7eaa98</td>\n    </tr>\n    <tr>\n      <th>1</th>\n      <td>49.274566</td>\n      <td>-123.121817</td>\n      <td>32603a87cfca71d0f7dfa3513bad69d5</td>\n      <td>Localcoin Bitcoin ATM - Red Card Sports Bar + ...</td>\n      <td>0.951660</td>\n      <td>7.6</td>\n      <td>1.0</td>\n      <td>565</td>\n      <td>4b182f85f964a52085ce23e3</td>\n    </tr>\n    <tr>\n      <th>2</th>\n      <td>49.279764</td>\n      <td>-123.110154</td>\n      <td>6d42fa40360f9a6b2bf641c7b8bb2862</td>\n      <td>Six Acres</td>\n      <td>0.938771</td>\n      <td>8.1</td>\n      <td>1.0</td>\n      <td>582</td>\n      <td>4aa7329cf964a5203f4c20e3</td>\n    </tr>\n    <tr>\n      <th>3</th>\n      <td>49.260599</td>\n      <td>-123.113504</td>\n      <td>66f873d641d448bd1572ab086665a458</td>\n      <td>Sing Sing Beer Bar</td>\n      <td>0.987130</td>\n      <td>7.4</td>\n      <td>NaN</td>\n      <td>921</td>\n      <td>5c6f3cc2c03635002c74c211</td>\n    </tr>\n    <tr>\n      <th>4</th>\n      <td>49.264215</td>\n      <td>-123.117772</td>\n      <td>485d4d24c803cfde829ab89699fed833</td>\n      <td>Victoria's Health and Organic Bar</td>\n      <td>0.090797</td>\n      <td>NaN</td>\n      <td>1.0</td>\n      <td>131</td>\n      <td>58f13221419a9e1e24489f12</td>\n    </tr>\n    <tr>\n      <th>...</th>\n      <td>...</td>\n      <td>...</td>\n      <td>...</td>\n      <td>...</td>\n      <td>...</td>\n      <td>...</td>\n      <td>...</td>\n      <td>...</td>\n      <td>...</td>\n    </tr>\n    <tr>\n      <th>240</th>\n      <td>49.280977</td>\n      <td>-123.035969</td>\n      <td>a74744ce4bb7ea2aa9f406ac8bff95d8</td>\n      <td>The Rustic Llama Cafe</td>\n      <td>0.873353</td>\n      <td>NaN</td>\n      <td>1.0</td>\n      <td>870</td>\n      <td>4e9f85bf30f854cd9bf64a29</td>\n    </tr>\n    <tr>\n      <th>241</th>\n      <td>49.270783</td>\n      <td>-123.141564</td>\n      <td>5699b40126e10c2f68eefc3eb18ff3a1</td>\n      <td>Lucky Taco</td>\n      <td>0.869412</td>\n      <td>6.7</td>\n      <td>1.0</td>\n      <td>981</td>\n      <td>57b26a56cd104357811923e4</td>\n    </tr>\n    <tr>\n      <th>242</th>\n      <td>49.264019</td>\n      <td>-123.209176</td>\n      <td>34fd37d12eb989b49518ef53941ee3ff</td>\n      <td>Varsity Barbers</td>\n      <td>0.751961</td>\n      <td>NaN</td>\n      <td>NaN</td>\n      <td>282</td>\n      <td>509ad61591d477646f22cb2f</td>\n    </tr>\n    <tr>\n      <th>243</th>\n      <td>49.265800</td>\n      <td>-123.205960</td>\n      <td>b7dd37a7dd668d6d10024b7f18acc438</td>\n      <td>The Good Stuff</td>\n      <td>0.769515</td>\n      <td>NaN</td>\n      <td>NaN</td>\n      <td>335</td>\n      <td>5978d136851de569bc454a8a</td>\n    </tr>\n    <tr>\n      <th>244</th>\n      <td>49.265442</td>\n      <td>-123.187738</td>\n      <td>cc25ae4f093b33ba0afd1dbc0dd20324</td>\n      <td>Nick's Barber Shop</td>\n      <td>0.794856</td>\n      <td>NaN</td>\n      <td>NaN</td>\n      <td>885</td>\n      <td>4d31ef57b6093704ac58f1df</td>\n    </tr>\n  </tbody>\n</table>\n<p>245 rows × 9 columns</p>\n</div>"
     },
     "execution_count": 113,
     "metadata": {},
     "output_type": "execute_result"
    }
   ],
   "source": [
    "df_foursquare = pd.DataFrame(all_results)\n",
    "df_foursquare"
   ],
   "metadata": {
    "collapsed": false,
    "ExecuteTime": {
     "end_time": "2023-09-22T22:51:05.747014Z",
     "start_time": "2023-09-22T22:51:05.743826Z"
    }
   }
  },
  {
   "cell_type": "code",
   "execution_count": 114,
   "outputs": [],
   "source": [
    "## SAVE A BACKUP of MY PRECIOUS JSON FILE\n",
    "\n",
    "import json\n",
    "\n",
    "with open('../data/FourSquare_APIresult_data.json', 'w') as f:\n",
    "    f.write(json.dumps(json.loads(df_foursquare.to_json(orient='records')), indent=4))\n"
   ],
   "metadata": {
    "collapsed": false,
    "ExecuteTime": {
     "end_time": "2023-09-23T00:01:38.998261Z",
     "start_time": "2023-09-23T00:01:38.991361Z"
    }
   }
  },
  {
   "cell_type": "markdown",
   "metadata": {},
   "source": []
  },
  {
   "cell_type": "markdown",
   "metadata": {},
   "source": [
    "# Yelp"
   ]
  },
  {
   "cell_type": "markdown",
   "metadata": {},
   "source": [
    "Send a request to Yelp with a small radius (1000m) for all the bike stations in your city of choice. "
   ]
  },
  {
   "cell_type": "code",
   "execution_count": 58,
   "metadata": {
    "ExecuteTime": {
     "end_time": "2023-09-23T02:23:13.375740Z",
     "start_time": "2023-09-23T02:23:12.925448Z"
    }
   },
   "outputs": [
    {
     "data": {
      "text/plain": "[[{'name': 'La Taqueria Pinche Taco Shop',\n   'review_count': 681,\n   'rating': 4.0,\n   'price': '$$',\n   'distance': 169.51745604912014,\n   'id': '6iOAgzJ0DRZNSKA3FSrrOg'},\n  {'name': 'Saku',\n   'review_count': 226,\n   'rating': 4.5,\n   'price': '$$',\n   'distance': 178.8453436692719,\n   'id': 'XAH2HpuUUtu7CUO26pbs4w'},\n  {'name': 'Uma Sushi',\n   'review_count': 114,\n   'rating': 4.5,\n   'price': '$$$',\n   'distance': 152.15789734503988,\n   'id': '4118Aq9LbkvUr4s719uUkA'},\n  {'name': 'Hokkaido Ramen Santouka',\n   'review_count': 224,\n   'rating': 4.0,\n   'price': '$$',\n   'distance': 191.04423406538024,\n   'id': 'nkDZY5xqihF3XtZMzzfqqg'},\n  {'name': 'iDen & Quan Ju De Beijing Duck House',\n   'review_count': 106,\n   'rating': 3.5,\n   'price': None,\n   'distance': 263.641336489585,\n   'id': 'Zi8Ywk36Ws_4zjw2gjMMFA'},\n  {'name': 'Seaport City Seafood Restaurant',\n   'review_count': 30,\n   'rating': 4.5,\n   'price': None,\n   'distance': 168.6152620637239,\n   'id': 'F5wxgIiZE7LYQxgqhI483A'},\n  {'name': 'Menya Raizo',\n   'review_count': 76,\n   'rating': 4.0,\n   'price': '$$',\n   'distance': 133.67867312458677,\n   'id': 'oHYOa9l5aLOQpJ8dF6sDmA'},\n  {'name': 'Peaceful Restaurant',\n   'review_count': 621,\n   'rating': 3.5,\n   'price': '$$',\n   'distance': 146.41800874604075,\n   'id': 'AEOyRbQtYD3bmX1qJWvt4g'},\n  {'name': 'Heritage Asian Eatery',\n   'review_count': 87,\n   'rating': 4.0,\n   'price': '$$',\n   'distance': 152.16830796850962,\n   'id': 'gdSAYWUI2MTgrk08r_OZSg'},\n  {'name': 'Sushi California',\n   'review_count': 318,\n   'rating': 3.5,\n   'price': '$$',\n   'distance': 143.49216961439387,\n   'id': 'mvCO6pRpfMB0_1GLlwgZRw'},\n  {'name': 'Marulilu Cafe',\n   'review_count': 286,\n   'rating': 4.0,\n   'price': '$$',\n   'distance': 102.3298169925688,\n   'id': 'NensKn1MSVU_rm-1Y6WlFA'},\n  {'name': 'Cactus Club Cafe',\n   'review_count': 145,\n   'rating': 3.5,\n   'price': '$$',\n   'distance': 221.48393348384232,\n   'id': 'u-tcnG8zdDG8QWYTctxyfg'},\n  {'name': 'Rogue Kitchen & Wetbar',\n   'review_count': 146,\n   'rating': 3.5,\n   'price': '$$',\n   'distance': 256.56802477141,\n   'id': 'JcxSnoXt1q6LdSEgwJsdRQ'},\n  {'name': 'Westcoast Poke',\n   'review_count': 172,\n   'rating': 4.0,\n   'price': '$$',\n   'distance': 182.23995143895965,\n   'id': 'qebPYEXBp8Zo_d7GY50i2w'},\n  {'name': 'Indian Roti Kitchen',\n   'review_count': 159,\n   'rating': 4.5,\n   'price': '$$',\n   'distance': 391.28316184456656,\n   'id': 'pJge_LJ3NV8iQtrERe6AyQ'},\n  {'name': 'Yolks',\n   'review_count': 349,\n   'rating': 3.5,\n   'price': '$$',\n   'distance': 170.3240366141957,\n   'id': 'bJKqZi70hu8g_ctZAAxtJw'},\n  {'name': \"Vij's Restaurant\",\n   'review_count': 401,\n   'rating': 4.0,\n   'price': '$$$',\n   'distance': 547.5967510908013,\n   'id': 'raZ-NDBs9S1j9fPONh4fWw'},\n  {'name': 'Regal Mansion Cuisine Seafood Restaurant',\n   'review_count': 31,\n   'rating': 3.5,\n   'price': None,\n   'distance': 225.6748189258945,\n   'id': '1ghN_fDAOTYW_9jlD6payg'},\n  {'name': 'Anh and Chi',\n   'review_count': 632,\n   'rating': 4.0,\n   'price': '$$',\n   'distance': 1284.2105761524042,\n   'id': 'l184Y1d3oAa5_Al4YIaRjQ'},\n  {'name': 'Aperture Coffee Bar',\n   'review_count': 124,\n   'rating': 4.0,\n   'price': '$$',\n   'distance': 295.9249203529791,\n   'id': 'PrKpa6Ejv1v1WvIIywYMvg'}]]"
     },
     "execution_count": 58,
     "metadata": {},
     "output_type": "execute_result"
    }
   ],
   "source": [
    "import YELP as creds\n",
    "import requests\n",
    "import os\n",
    "API_KEY=creds.YELP_API\n",
    "# print(API_KEY) ## Confirmed - API Key ok!! \n",
    "\n",
    "def yelp_API_call(latitude, longitude):\n",
    "    radius =1000\n",
    "    Yelp_API_Result= []\n",
    "    \n",
    "    parameters = {\n",
    "        \"latitude\": latitude,\n",
    "        \"longitude\": longitude,\n",
    "        \"radius\": radius,\n",
    "        \"categories\":\"bars%2Crestaurants\"\n",
    "    }\n",
    "    url = \"https://api.yelp.com/v3/businesses/search\"\n",
    "\n",
    "    headers = {\n",
    "    \"accept\": \"application/json\",\n",
    "    \"Authorization\": f\"Bearer {API_KEY}\" \n",
    "    }\n",
    "\n",
    "    response = requests.get(url, params=parameters, headers=headers)\n",
    "    # print(response.text)\n",
    "    ###### Single API Call generated ^^\n",
    "    \n",
    "    #### Loop through result to extract target data and populate the Result List\n",
    "    \n",
    "    if response.status_code != 200:\n",
    "        return f\"Error: {response.status_code}\"\n",
    "    else:\n",
    "        data = response.json()\n",
    "        # print(data)\n",
    "    \n",
    "        for i in data['businesses']:\n",
    "            details = {\n",
    "            'name': i.get('name', None),\n",
    "            'review_count':i.get('review_count',None),\n",
    "            'rating': i.get('rating', None),\n",
    "            'price': i.get('price', None),\n",
    "            'distance': i.get('distance', None),\n",
    "            'id': i.get('id', None)\n",
    "        }\n",
    "            Yelp_API_Result.append(details)\n",
    "        # print(Yelp_API_Result)\n",
    "        return Yelp_API_Result\n",
    "\n",
    "#################   \n",
    "   \n",
    "    \n",
    "all_results = []  # Initialize empty list to accumulate results from each API call.\n",
    "\n",
    "## Loop latitude,longitude from station to get details\n",
    "for index, row in vancouver_stations_TEST.iterrows():\n",
    "    latitude = row['latitude']\n",
    "    longitude = row['longitude']\n",
    "    station_id = row['id']\n",
    "    result_list = yelp_API_call(latitude, longitude)\n",
    "    all_results.append(result_list)   \n",
    "# # \n",
    "#     for result in result_list:\n",
    "#         # Create a new dictionary with latitude and longitude, id of station, then update it with the result dictionary\n",
    "#         combined_result = {'latitude': latitude, 'longitude': longitude, 'station_id': station_id}\n",
    "#         combined_result.update(result)\n",
    "# \n",
    "#     ## Append the combined dictionary to 'all_results'\n",
    "#     all_results.append(combined_result)\n",
    "# print(\"This is all results:\")\n",
    "all_results   \n",
    "\n"
   ]
  },
  {
   "cell_type": "markdown",
   "metadata": {},
   "source": [
    "Parse through the response to get the POI (such as restaurants, bars, etc) details you want (ratings, name, location, etc)"
   ]
  },
  {
   "cell_type": "code",
   "execution_count": 60,
   "metadata": {
    "ExecuteTime": {
     "end_time": "2023-09-23T02:25:08.026784Z",
     "start_time": "2023-09-23T02:25:08.012792Z"
    }
   },
   "outputs": [
    {
     "data": {
      "text/plain": "                                        name  review_count  rating price  \\\n0               La Taqueria Pinche Taco Shop           681     4.0    $$   \n1                                       Saku           226     4.5    $$   \n2                                  Uma Sushi           114     4.5   $$$   \n3                    Hokkaido Ramen Santouka           224     4.0    $$   \n4       iDen & Quan Ju De Beijing Duck House           106     3.5  None   \n5            Seaport City Seafood Restaurant            30     4.5  None   \n6                                Menya Raizo            76     4.0    $$   \n7                        Peaceful Restaurant           621     3.5    $$   \n8                      Heritage Asian Eatery            87     4.0    $$   \n9                           Sushi California           318     3.5    $$   \n10                             Marulilu Cafe           286     4.0    $$   \n11                          Cactus Club Cafe           145     3.5    $$   \n12                    Rogue Kitchen & Wetbar           146     3.5    $$   \n13                            Westcoast Poke           172     4.0    $$   \n14                       Indian Roti Kitchen           159     4.5    $$   \n15                                     Yolks           349     3.5    $$   \n16                          Vij's Restaurant           401     4.0   $$$   \n17  Regal Mansion Cuisine Seafood Restaurant            31     3.5  None   \n18                               Anh and Chi           632     4.0    $$   \n19                       Aperture Coffee Bar           124     4.0    $$   \n\n       distance                      id  \n0    169.517456  6iOAgzJ0DRZNSKA3FSrrOg  \n1    178.845344  XAH2HpuUUtu7CUO26pbs4w  \n2    152.157897  4118Aq9LbkvUr4s719uUkA  \n3    191.044234  nkDZY5xqihF3XtZMzzfqqg  \n4    263.641336  Zi8Ywk36Ws_4zjw2gjMMFA  \n5    168.615262  F5wxgIiZE7LYQxgqhI483A  \n6    133.678673  oHYOa9l5aLOQpJ8dF6sDmA  \n7    146.418009  AEOyRbQtYD3bmX1qJWvt4g  \n8    152.168308  gdSAYWUI2MTgrk08r_OZSg  \n9    143.492170  mvCO6pRpfMB0_1GLlwgZRw  \n10   102.329817  NensKn1MSVU_rm-1Y6WlFA  \n11   221.483933  u-tcnG8zdDG8QWYTctxyfg  \n12   256.568025  JcxSnoXt1q6LdSEgwJsdRQ  \n13   182.239951  qebPYEXBp8Zo_d7GY50i2w  \n14   391.283162  pJge_LJ3NV8iQtrERe6AyQ  \n15   170.324037  bJKqZi70hu8g_ctZAAxtJw  \n16   547.596751  raZ-NDBs9S1j9fPONh4fWw  \n17   225.674819  1ghN_fDAOTYW_9jlD6payg  \n18  1284.210576  l184Y1d3oAa5_Al4YIaRjQ  \n19   295.924920  PrKpa6Ejv1v1WvIIywYMvg  ",
      "text/html": "<div>\n<style scoped>\n    .dataframe tbody tr th:only-of-type {\n        vertical-align: middle;\n    }\n\n    .dataframe tbody tr th {\n        vertical-align: top;\n    }\n\n    .dataframe thead th {\n        text-align: right;\n    }\n</style>\n<table border=\"1\" class=\"dataframe\">\n  <thead>\n    <tr style=\"text-align: right;\">\n      <th></th>\n      <th>name</th>\n      <th>review_count</th>\n      <th>rating</th>\n      <th>price</th>\n      <th>distance</th>\n      <th>id</th>\n    </tr>\n  </thead>\n  <tbody>\n    <tr>\n      <th>0</th>\n      <td>La Taqueria Pinche Taco Shop</td>\n      <td>681</td>\n      <td>4.0</td>\n      <td>$$</td>\n      <td>169.517456</td>\n      <td>6iOAgzJ0DRZNSKA3FSrrOg</td>\n    </tr>\n    <tr>\n      <th>1</th>\n      <td>Saku</td>\n      <td>226</td>\n      <td>4.5</td>\n      <td>$$</td>\n      <td>178.845344</td>\n      <td>XAH2HpuUUtu7CUO26pbs4w</td>\n    </tr>\n    <tr>\n      <th>2</th>\n      <td>Uma Sushi</td>\n      <td>114</td>\n      <td>4.5</td>\n      <td>$$$</td>\n      <td>152.157897</td>\n      <td>4118Aq9LbkvUr4s719uUkA</td>\n    </tr>\n    <tr>\n      <th>3</th>\n      <td>Hokkaido Ramen Santouka</td>\n      <td>224</td>\n      <td>4.0</td>\n      <td>$$</td>\n      <td>191.044234</td>\n      <td>nkDZY5xqihF3XtZMzzfqqg</td>\n    </tr>\n    <tr>\n      <th>4</th>\n      <td>iDen &amp; Quan Ju De Beijing Duck House</td>\n      <td>106</td>\n      <td>3.5</td>\n      <td>None</td>\n      <td>263.641336</td>\n      <td>Zi8Ywk36Ws_4zjw2gjMMFA</td>\n    </tr>\n    <tr>\n      <th>5</th>\n      <td>Seaport City Seafood Restaurant</td>\n      <td>30</td>\n      <td>4.5</td>\n      <td>None</td>\n      <td>168.615262</td>\n      <td>F5wxgIiZE7LYQxgqhI483A</td>\n    </tr>\n    <tr>\n      <th>6</th>\n      <td>Menya Raizo</td>\n      <td>76</td>\n      <td>4.0</td>\n      <td>$$</td>\n      <td>133.678673</td>\n      <td>oHYOa9l5aLOQpJ8dF6sDmA</td>\n    </tr>\n    <tr>\n      <th>7</th>\n      <td>Peaceful Restaurant</td>\n      <td>621</td>\n      <td>3.5</td>\n      <td>$$</td>\n      <td>146.418009</td>\n      <td>AEOyRbQtYD3bmX1qJWvt4g</td>\n    </tr>\n    <tr>\n      <th>8</th>\n      <td>Heritage Asian Eatery</td>\n      <td>87</td>\n      <td>4.0</td>\n      <td>$$</td>\n      <td>152.168308</td>\n      <td>gdSAYWUI2MTgrk08r_OZSg</td>\n    </tr>\n    <tr>\n      <th>9</th>\n      <td>Sushi California</td>\n      <td>318</td>\n      <td>3.5</td>\n      <td>$$</td>\n      <td>143.492170</td>\n      <td>mvCO6pRpfMB0_1GLlwgZRw</td>\n    </tr>\n    <tr>\n      <th>10</th>\n      <td>Marulilu Cafe</td>\n      <td>286</td>\n      <td>4.0</td>\n      <td>$$</td>\n      <td>102.329817</td>\n      <td>NensKn1MSVU_rm-1Y6WlFA</td>\n    </tr>\n    <tr>\n      <th>11</th>\n      <td>Cactus Club Cafe</td>\n      <td>145</td>\n      <td>3.5</td>\n      <td>$$</td>\n      <td>221.483933</td>\n      <td>u-tcnG8zdDG8QWYTctxyfg</td>\n    </tr>\n    <tr>\n      <th>12</th>\n      <td>Rogue Kitchen &amp; Wetbar</td>\n      <td>146</td>\n      <td>3.5</td>\n      <td>$$</td>\n      <td>256.568025</td>\n      <td>JcxSnoXt1q6LdSEgwJsdRQ</td>\n    </tr>\n    <tr>\n      <th>13</th>\n      <td>Westcoast Poke</td>\n      <td>172</td>\n      <td>4.0</td>\n      <td>$$</td>\n      <td>182.239951</td>\n      <td>qebPYEXBp8Zo_d7GY50i2w</td>\n    </tr>\n    <tr>\n      <th>14</th>\n      <td>Indian Roti Kitchen</td>\n      <td>159</td>\n      <td>4.5</td>\n      <td>$$</td>\n      <td>391.283162</td>\n      <td>pJge_LJ3NV8iQtrERe6AyQ</td>\n    </tr>\n    <tr>\n      <th>15</th>\n      <td>Yolks</td>\n      <td>349</td>\n      <td>3.5</td>\n      <td>$$</td>\n      <td>170.324037</td>\n      <td>bJKqZi70hu8g_ctZAAxtJw</td>\n    </tr>\n    <tr>\n      <th>16</th>\n      <td>Vij's Restaurant</td>\n      <td>401</td>\n      <td>4.0</td>\n      <td>$$$</td>\n      <td>547.596751</td>\n      <td>raZ-NDBs9S1j9fPONh4fWw</td>\n    </tr>\n    <tr>\n      <th>17</th>\n      <td>Regal Mansion Cuisine Seafood Restaurant</td>\n      <td>31</td>\n      <td>3.5</td>\n      <td>None</td>\n      <td>225.674819</td>\n      <td>1ghN_fDAOTYW_9jlD6payg</td>\n    </tr>\n    <tr>\n      <th>18</th>\n      <td>Anh and Chi</td>\n      <td>632</td>\n      <td>4.0</td>\n      <td>$$</td>\n      <td>1284.210576</td>\n      <td>l184Y1d3oAa5_Al4YIaRjQ</td>\n    </tr>\n    <tr>\n      <th>19</th>\n      <td>Aperture Coffee Bar</td>\n      <td>124</td>\n      <td>4.0</td>\n      <td>$$</td>\n      <td>295.924920</td>\n      <td>PrKpa6Ejv1v1WvIIywYMvg</td>\n    </tr>\n  </tbody>\n</table>\n</div>"
     },
     "execution_count": 60,
     "metadata": {},
     "output_type": "execute_result"
    }
   ],
   "source": [
    "df_yelp = pd.DataFrame(all_results[0])\n",
    "df_yelp"
   ]
  },
  {
   "cell_type": "markdown",
   "metadata": {},
   "source": [
    "Put your parsed results into a DataFrame"
   ]
  },
  {
   "cell_type": "markdown",
   "metadata": {},
   "source": []
  },
  {
   "cell_type": "markdown",
   "metadata": {},
   "source": [
    "# Comparing Results"
   ]
  },
  {
   "cell_type": "markdown",
   "metadata": {},
   "source": [
    "Which API provided you with more complete data? Provide an explanation. "
   ]
  },
  {
   "cell_type": "markdown",
   "metadata": {},
   "source": []
  },
  {
   "cell_type": "markdown",
   "metadata": {},
   "source": [
    "Get the top 10 restaurants according to their rating"
   ]
  },
  {
   "cell_type": "code",
   "execution_count": null,
   "metadata": {
    "ExecuteTime": {
     "start_time": "2023-09-21T21:39:00.838831Z"
    }
   },
   "outputs": [],
   "source": []
  }
 ],
 "metadata": {
  "kernelspec": {
   "display_name": "Python 3",
   "language": "python",
   "name": "python3"
  },
  "language_info": {
   "codemirror_mode": {
    "name": "ipython",
    "version": 3
   },
   "file_extension": ".py",
   "mimetype": "text/x-python",
   "name": "python",
   "nbconvert_exporter": "python",
   "pygments_lexer": "ipython3",
   "version": "3.8.5"
  }
 },
 "nbformat": 4,
 "nbformat_minor": 4
}
