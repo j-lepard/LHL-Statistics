{
 "cells": [
  {
   "cell_type": "markdown",
   "metadata": {},
   "source": [
    "Join the data from Part 1 with the data from Part 2 to create a new dataframe."
   ]
  },
  {
   "cell_type": "code",
   "execution_count": 0,
   "metadata": {},
   "outputs": [],
   "source": [
    "import pandas as pd\n",
    "\n",
    "## Import .csv from API calls\n",
    "STATIONS= pd.read_csv('../data/city_bikes.csv')\n",
    "YELP = pd.read_csv('../data/Yelp_location_results.csv')\n",
    "FS = pd.read_csv('../data/FS_location_results.csv')"
   ]
  },
  {
   "cell_type": "code",
   "execution_count": 73,
   "outputs": [
    {
     "data": {
      "text/plain": "                                       name                        station_id  \\\n0              La Taqueria Pinche Taco Shop  7a19c49f486d7c0c02b3685d7b240448   \n1                                      Saku  7a19c49f486d7c0c02b3685d7b240448   \n2                                 Uma Sushi  7a19c49f486d7c0c02b3685d7b240448   \n3                   Hokkaido Ramen Santouka  7a19c49f486d7c0c02b3685d7b240448   \n4      iDen & Quan Ju De Beijing Duck House  7a19c49f486d7c0c02b3685d7b240448   \n...                                     ...                               ...   \n12115                                   A&W  cc25ae4f093b33ba0afd1dbc0dd20324   \n12116           Dairy Queen / Orange Julius  cc25ae4f093b33ba0afd1dbc0dd20324   \n12117                      Freshslice Pizza  cc25ae4f093b33ba0afd1dbc0dd20324   \n12118                            720 Sweets  cc25ae4f093b33ba0afd1dbc0dd20324   \n12119                            Thai Basil  cc25ae4f093b33ba0afd1dbc0dd20324   \n\n       rating price               lat_long    distance source  \n0         4.0    $$  49.262487,-123.114397  169.517456   yelp  \n1         4.5    $$  49.262487,-123.114397  178.845344   yelp  \n2         4.5   $$$  49.262487,-123.114397  152.157897   yelp  \n3         4.0    $$  49.262487,-123.114397  191.044234   yelp  \n4         3.5   NaN  49.262487,-123.114397  263.641336   yelp  \n...       ...   ...                    ...         ...    ...  \n12115     3.5     $  49.265442,-123.187738  321.985495   yelp  \n12116     4.5   NaN  49.265442,-123.187738  987.901958   yelp  \n12117     3.5     $  49.265442,-123.187738  333.363870   yelp  \n12118     3.5     $  49.265442,-123.187738  782.192237   yelp  \n12119     3.5     $  49.265442,-123.187738  765.806809   yelp  \n\n[12120 rows x 7 columns]",
      "text/html": "<div>\n<style scoped>\n    .dataframe tbody tr th:only-of-type {\n        vertical-align: middle;\n    }\n\n    .dataframe tbody tr th {\n        vertical-align: top;\n    }\n\n    .dataframe thead th {\n        text-align: right;\n    }\n</style>\n<table border=\"1\" class=\"dataframe\">\n  <thead>\n    <tr style=\"text-align: right;\">\n      <th></th>\n      <th>name</th>\n      <th>station_id</th>\n      <th>rating</th>\n      <th>price</th>\n      <th>lat_long</th>\n      <th>distance</th>\n      <th>source</th>\n    </tr>\n  </thead>\n  <tbody>\n    <tr>\n      <th>0</th>\n      <td>La Taqueria Pinche Taco Shop</td>\n      <td>7a19c49f486d7c0c02b3685d7b240448</td>\n      <td>4.0</td>\n      <td>$$</td>\n      <td>49.262487,-123.114397</td>\n      <td>169.517456</td>\n      <td>yelp</td>\n    </tr>\n    <tr>\n      <th>1</th>\n      <td>Saku</td>\n      <td>7a19c49f486d7c0c02b3685d7b240448</td>\n      <td>4.5</td>\n      <td>$$</td>\n      <td>49.262487,-123.114397</td>\n      <td>178.845344</td>\n      <td>yelp</td>\n    </tr>\n    <tr>\n      <th>2</th>\n      <td>Uma Sushi</td>\n      <td>7a19c49f486d7c0c02b3685d7b240448</td>\n      <td>4.5</td>\n      <td>$$$</td>\n      <td>49.262487,-123.114397</td>\n      <td>152.157897</td>\n      <td>yelp</td>\n    </tr>\n    <tr>\n      <th>3</th>\n      <td>Hokkaido Ramen Santouka</td>\n      <td>7a19c49f486d7c0c02b3685d7b240448</td>\n      <td>4.0</td>\n      <td>$$</td>\n      <td>49.262487,-123.114397</td>\n      <td>191.044234</td>\n      <td>yelp</td>\n    </tr>\n    <tr>\n      <th>4</th>\n      <td>iDen &amp; Quan Ju De Beijing Duck House</td>\n      <td>7a19c49f486d7c0c02b3685d7b240448</td>\n      <td>3.5</td>\n      <td>NaN</td>\n      <td>49.262487,-123.114397</td>\n      <td>263.641336</td>\n      <td>yelp</td>\n    </tr>\n    <tr>\n      <th>...</th>\n      <td>...</td>\n      <td>...</td>\n      <td>...</td>\n      <td>...</td>\n      <td>...</td>\n      <td>...</td>\n      <td>...</td>\n    </tr>\n    <tr>\n      <th>12115</th>\n      <td>A&amp;W</td>\n      <td>cc25ae4f093b33ba0afd1dbc0dd20324</td>\n      <td>3.5</td>\n      <td>$</td>\n      <td>49.265442,-123.187738</td>\n      <td>321.985495</td>\n      <td>yelp</td>\n    </tr>\n    <tr>\n      <th>12116</th>\n      <td>Dairy Queen / Orange Julius</td>\n      <td>cc25ae4f093b33ba0afd1dbc0dd20324</td>\n      <td>4.5</td>\n      <td>NaN</td>\n      <td>49.265442,-123.187738</td>\n      <td>987.901958</td>\n      <td>yelp</td>\n    </tr>\n    <tr>\n      <th>12117</th>\n      <td>Freshslice Pizza</td>\n      <td>cc25ae4f093b33ba0afd1dbc0dd20324</td>\n      <td>3.5</td>\n      <td>$</td>\n      <td>49.265442,-123.187738</td>\n      <td>333.363870</td>\n      <td>yelp</td>\n    </tr>\n    <tr>\n      <th>12118</th>\n      <td>720 Sweets</td>\n      <td>cc25ae4f093b33ba0afd1dbc0dd20324</td>\n      <td>3.5</td>\n      <td>$</td>\n      <td>49.265442,-123.187738</td>\n      <td>782.192237</td>\n      <td>yelp</td>\n    </tr>\n    <tr>\n      <th>12119</th>\n      <td>Thai Basil</td>\n      <td>cc25ae4f093b33ba0afd1dbc0dd20324</td>\n      <td>3.5</td>\n      <td>$</td>\n      <td>49.265442,-123.187738</td>\n      <td>765.806809</td>\n      <td>yelp</td>\n    </tr>\n  </tbody>\n</table>\n<p>12120 rows × 7 columns</p>\n</div>"
     },
     "execution_count": 73,
     "metadata": {},
     "output_type": "execute_result"
    }
   ],
   "source": [
    "### EXPLORATION AND TESTING OF PRIMARY KEY BETWEEN TABLES. \n",
    "\n",
    "#Architecture \n",
    "# - STATIONS will be the LEFT TABLE as it is the 'master' list of station id and the lookup key.\n",
    "# - LAT/LONG for the STATION will be the primary key\n",
    "# - JOIN dataframes on LAT/LONG. Anticipate there will be multiple results per station id (1-many)\n",
    "\n",
    "\n",
    "# STATIONS.drop_duplicates(subset='lat_long',keep=\"first\").count()\n",
    "\n",
    "## Add primary key to Yelp based on the Lat/Long of the associated station coords\n",
    "## Convert it to string or it will just ADD them! doh\n",
    "\n",
    "YELP['lat_long']=YELP['latitude'].astype(str) +\",\"+ YELP['longitude'].astype(str)\n",
    "YELP['source']=\"yelp\"\n",
    "YELP_df = YELP[['name','station_id','rating','price','lat_long','distance','source']]\n",
    "YELP_df\n",
    "## Confirm that generated pkey ('lat_long' can be used to join tables. \n",
    "## Postive outcome: use outpt of concatenated field as input to filter the Station list. \n",
    "## Result : success. \n",
    "## Conclusion: Use the generated 'lat_long' as a primary key to join tables. \n",
    "\n",
    "# Sample Lat_long from Yelp='49.262487,-123.114397'\n",
    "# \n",
    "# STATIONS_filter = STATIONS[STATIONS['lat_long']=='49.262487,-123.114397']\n",
    "# STATIONS_filter\n",
    "\n",
    "\n"
   ],
   "metadata": {
    "collapsed": false,
    "ExecuteTime": {
     "end_time": "2023-09-23T19:07:12.962153Z",
     "start_time": "2023-09-23T19:07:12.947354Z"
    }
   }
  },
  {
   "cell_type": "code",
   "execution_count": 101,
   "outputs": [
    {
     "data": {
      "text/plain": "                          name                        station_id  rating  \\\n0       Rogue Kitchen & Wetbar  7a19c49f486d7c0c02b3685d7b240448     8.2   \n1          33 Acres Brewing Co  7a19c49f486d7c0c02b3685d7b240448     9.4   \n2              The Juice Truck  7a19c49f486d7c0c02b3685d7b240448     8.8   \n3             Biercraft Bistro  7a19c49f486d7c0c02b3685d7b240448     8.1   \n4           Faculty Brewing Co  7a19c49f486d7c0c02b3685d7b240448     8.3   \n...                        ...                               ...     ...   \n2259           The Fringe Cafe  cc25ae4f093b33ba0afd1dbc0dd20324     5.8   \n2260          Coppertank Grill  cc25ae4f093b33ba0afd1dbc0dd20324     5.7   \n2261             Good Co. Kits  cc25ae4f093b33ba0afd1dbc0dd20324     NaN   \n2262  Castaway Bar and Kitchen  cc25ae4f093b33ba0afd1dbc0dd20324     NaN   \n2263        Nick's Barber Shop  cc25ae4f093b33ba0afd1dbc0dd20324     NaN   \n\n      price               lat_long  distance source                    fsq_id  \n0       3.0  49.262487,-123.114397       250     FS  4f60fc8be4b0a9d090a1f850  \n1       2.0  49.262487,-123.114397       674     FS  51b201d27dd249ae714ba728  \n2       1.0  49.262487,-123.114397       779     FS  537e3ec8498ec730b9966b97  \n3       3.0  49.262487,-123.114397       744     FS  4cbf89f200d8370403c8445c  \n4       2.0  49.262487,-123.114397       994     FS  55d97956498e2c299b5830c0  \n...     ...                    ...       ...    ...                       ...  \n2259    2.0  49.265442,-123.187738       955     FS  4aa7f754f964a520484e20e3  \n2260    1.0  49.265442,-123.187738       941     FS  4aa6a91df964a520864a20e3  \n2261    1.0  49.265442,-123.187738       791     FS  6457401321f70230178ea1ea  \n2262    2.0  49.265442,-123.187738       809     FS  5d29827cf5c8330023780aff  \n2263    NaN  49.265442,-123.187738       885     FS  4d31ef57b6093704ac58f1df  \n\n[2264 rows x 8 columns]",
      "text/html": "<div>\n<style scoped>\n    .dataframe tbody tr th:only-of-type {\n        vertical-align: middle;\n    }\n\n    .dataframe tbody tr th {\n        vertical-align: top;\n    }\n\n    .dataframe thead th {\n        text-align: right;\n    }\n</style>\n<table border=\"1\" class=\"dataframe\">\n  <thead>\n    <tr style=\"text-align: right;\">\n      <th></th>\n      <th>name</th>\n      <th>station_id</th>\n      <th>rating</th>\n      <th>price</th>\n      <th>lat_long</th>\n      <th>distance</th>\n      <th>source</th>\n      <th>fsq_id</th>\n    </tr>\n  </thead>\n  <tbody>\n    <tr>\n      <th>0</th>\n      <td>Rogue Kitchen &amp; Wetbar</td>\n      <td>7a19c49f486d7c0c02b3685d7b240448</td>\n      <td>8.2</td>\n      <td>3.0</td>\n      <td>49.262487,-123.114397</td>\n      <td>250</td>\n      <td>FS</td>\n      <td>4f60fc8be4b0a9d090a1f850</td>\n    </tr>\n    <tr>\n      <th>1</th>\n      <td>33 Acres Brewing Co</td>\n      <td>7a19c49f486d7c0c02b3685d7b240448</td>\n      <td>9.4</td>\n      <td>2.0</td>\n      <td>49.262487,-123.114397</td>\n      <td>674</td>\n      <td>FS</td>\n      <td>51b201d27dd249ae714ba728</td>\n    </tr>\n    <tr>\n      <th>2</th>\n      <td>The Juice Truck</td>\n      <td>7a19c49f486d7c0c02b3685d7b240448</td>\n      <td>8.8</td>\n      <td>1.0</td>\n      <td>49.262487,-123.114397</td>\n      <td>779</td>\n      <td>FS</td>\n      <td>537e3ec8498ec730b9966b97</td>\n    </tr>\n    <tr>\n      <th>3</th>\n      <td>Biercraft Bistro</td>\n      <td>7a19c49f486d7c0c02b3685d7b240448</td>\n      <td>8.1</td>\n      <td>3.0</td>\n      <td>49.262487,-123.114397</td>\n      <td>744</td>\n      <td>FS</td>\n      <td>4cbf89f200d8370403c8445c</td>\n    </tr>\n    <tr>\n      <th>4</th>\n      <td>Faculty Brewing Co</td>\n      <td>7a19c49f486d7c0c02b3685d7b240448</td>\n      <td>8.3</td>\n      <td>2.0</td>\n      <td>49.262487,-123.114397</td>\n      <td>994</td>\n      <td>FS</td>\n      <td>55d97956498e2c299b5830c0</td>\n    </tr>\n    <tr>\n      <th>...</th>\n      <td>...</td>\n      <td>...</td>\n      <td>...</td>\n      <td>...</td>\n      <td>...</td>\n      <td>...</td>\n      <td>...</td>\n      <td>...</td>\n    </tr>\n    <tr>\n      <th>2259</th>\n      <td>The Fringe Cafe</td>\n      <td>cc25ae4f093b33ba0afd1dbc0dd20324</td>\n      <td>5.8</td>\n      <td>2.0</td>\n      <td>49.265442,-123.187738</td>\n      <td>955</td>\n      <td>FS</td>\n      <td>4aa7f754f964a520484e20e3</td>\n    </tr>\n    <tr>\n      <th>2260</th>\n      <td>Coppertank Grill</td>\n      <td>cc25ae4f093b33ba0afd1dbc0dd20324</td>\n      <td>5.7</td>\n      <td>1.0</td>\n      <td>49.265442,-123.187738</td>\n      <td>941</td>\n      <td>FS</td>\n      <td>4aa6a91df964a520864a20e3</td>\n    </tr>\n    <tr>\n      <th>2261</th>\n      <td>Good Co. Kits</td>\n      <td>cc25ae4f093b33ba0afd1dbc0dd20324</td>\n      <td>NaN</td>\n      <td>1.0</td>\n      <td>49.265442,-123.187738</td>\n      <td>791</td>\n      <td>FS</td>\n      <td>6457401321f70230178ea1ea</td>\n    </tr>\n    <tr>\n      <th>2262</th>\n      <td>Castaway Bar and Kitchen</td>\n      <td>cc25ae4f093b33ba0afd1dbc0dd20324</td>\n      <td>NaN</td>\n      <td>2.0</td>\n      <td>49.265442,-123.187738</td>\n      <td>809</td>\n      <td>FS</td>\n      <td>5d29827cf5c8330023780aff</td>\n    </tr>\n    <tr>\n      <th>2263</th>\n      <td>Nick's Barber Shop</td>\n      <td>cc25ae4f093b33ba0afd1dbc0dd20324</td>\n      <td>NaN</td>\n      <td>NaN</td>\n      <td>49.265442,-123.187738</td>\n      <td>885</td>\n      <td>FS</td>\n      <td>4d31ef57b6093704ac58f1df</td>\n    </tr>\n  </tbody>\n</table>\n<p>2264 rows × 8 columns</p>\n</div>"
     },
     "execution_count": 101,
     "metadata": {},
     "output_type": "execute_result"
    }
   ],
   "source": [
    "### CREATE FOREIGN KEYS IN YELP AND FS DATAFRAMES\n",
    "\n",
    "## Eliminate extra fields in STATIONS\n",
    "STATIONS_abr = STATIONS[['lat_long','name','free_bikes']]\n",
    "STATIONS_abr\n",
    "\n",
    "\n",
    "YELP['lat_long']=YELP['latitude'].astype(str) +\",\"+ YELP['longitude'].astype(str)\n",
    "YELP['source']=\"yelp\"\n",
    "YELP_df = YELP[['name','station_id','rating','price','lat_long','distance','source','id']]\n",
    "YELP_df\n",
    "## QA - CHECK - 12,120 records. Lat_long Generated. \n",
    "\n",
    "FS['lat_long']=FS['latitude'].astype(str) +\",\"+ FS['longitude'].astype(str)\n",
    "FS['source']=\"FS\"\n",
    "FS_df = FS[['name','station_id','rating','price','lat_long','distance','source','fsq_id']]\n",
    "FS_df\n",
    "\n",
    "## QA - Observation - FS may have limited the results as there is an curious consistency about the max number of results per STATION\n",
    "## todo: investigate why there might be a max of then bars per stationid in the FS results \n",
    "##FS.groupby('station_id')['name'].count().sort_values(ascending=False)\n"
   ],
   "metadata": {
    "collapsed": false,
    "ExecuteTime": {
     "end_time": "2023-09-23T21:23:41.452302Z",
     "start_time": "2023-09-23T21:23:41.439631Z"
    }
   }
  },
  {
   "cell_type": "code",
   "execution_count": 78,
   "outputs": [
    {
     "data": {
      "text/plain": "                                       name                        station_id  \\\n0              La Taqueria Pinche Taco Shop  7a19c49f486d7c0c02b3685d7b240448   \n1                                      Saku  7a19c49f486d7c0c02b3685d7b240448   \n2                                 Uma Sushi  7a19c49f486d7c0c02b3685d7b240448   \n3                   Hokkaido Ramen Santouka  7a19c49f486d7c0c02b3685d7b240448   \n4      iDen & Quan Ju De Beijing Duck House  7a19c49f486d7c0c02b3685d7b240448   \n...                                     ...                               ...   \n12115                                   A&W  cc25ae4f093b33ba0afd1dbc0dd20324   \n12116           Dairy Queen / Orange Julius  cc25ae4f093b33ba0afd1dbc0dd20324   \n12117                      Freshslice Pizza  cc25ae4f093b33ba0afd1dbc0dd20324   \n12118                            720 Sweets  cc25ae4f093b33ba0afd1dbc0dd20324   \n12119                            Thai Basil  cc25ae4f093b33ba0afd1dbc0dd20324   \n\n       rating price               lat_long    distance source  \n0         4.0    $$  49.262487,-123.114397  169.517456   yelp  \n1         4.5    $$  49.262487,-123.114397  178.845344   yelp  \n2         4.5   $$$  49.262487,-123.114397  152.157897   yelp  \n3         4.0    $$  49.262487,-123.114397  191.044234   yelp  \n4         3.5   NaN  49.262487,-123.114397  263.641336   yelp  \n...       ...   ...                    ...         ...    ...  \n12115     3.5     $  49.265442,-123.187738  321.985495   yelp  \n12116     4.5   NaN  49.265442,-123.187738  987.901958   yelp  \n12117     3.5     $  49.265442,-123.187738  333.363870   yelp  \n12118     3.5     $  49.265442,-123.187738  782.192237   yelp  \n12119     3.5     $  49.265442,-123.187738  765.806809   yelp  \n\n[12120 rows x 7 columns]",
      "text/html": "<div>\n<style scoped>\n    .dataframe tbody tr th:only-of-type {\n        vertical-align: middle;\n    }\n\n    .dataframe tbody tr th {\n        vertical-align: top;\n    }\n\n    .dataframe thead th {\n        text-align: right;\n    }\n</style>\n<table border=\"1\" class=\"dataframe\">\n  <thead>\n    <tr style=\"text-align: right;\">\n      <th></th>\n      <th>name</th>\n      <th>station_id</th>\n      <th>rating</th>\n      <th>price</th>\n      <th>lat_long</th>\n      <th>distance</th>\n      <th>source</th>\n    </tr>\n  </thead>\n  <tbody>\n    <tr>\n      <th>0</th>\n      <td>La Taqueria Pinche Taco Shop</td>\n      <td>7a19c49f486d7c0c02b3685d7b240448</td>\n      <td>4.0</td>\n      <td>$$</td>\n      <td>49.262487,-123.114397</td>\n      <td>169.517456</td>\n      <td>yelp</td>\n    </tr>\n    <tr>\n      <th>1</th>\n      <td>Saku</td>\n      <td>7a19c49f486d7c0c02b3685d7b240448</td>\n      <td>4.5</td>\n      <td>$$</td>\n      <td>49.262487,-123.114397</td>\n      <td>178.845344</td>\n      <td>yelp</td>\n    </tr>\n    <tr>\n      <th>2</th>\n      <td>Uma Sushi</td>\n      <td>7a19c49f486d7c0c02b3685d7b240448</td>\n      <td>4.5</td>\n      <td>$$$</td>\n      <td>49.262487,-123.114397</td>\n      <td>152.157897</td>\n      <td>yelp</td>\n    </tr>\n    <tr>\n      <th>3</th>\n      <td>Hokkaido Ramen Santouka</td>\n      <td>7a19c49f486d7c0c02b3685d7b240448</td>\n      <td>4.0</td>\n      <td>$$</td>\n      <td>49.262487,-123.114397</td>\n      <td>191.044234</td>\n      <td>yelp</td>\n    </tr>\n    <tr>\n      <th>4</th>\n      <td>iDen &amp; Quan Ju De Beijing Duck House</td>\n      <td>7a19c49f486d7c0c02b3685d7b240448</td>\n      <td>3.5</td>\n      <td>NaN</td>\n      <td>49.262487,-123.114397</td>\n      <td>263.641336</td>\n      <td>yelp</td>\n    </tr>\n    <tr>\n      <th>...</th>\n      <td>...</td>\n      <td>...</td>\n      <td>...</td>\n      <td>...</td>\n      <td>...</td>\n      <td>...</td>\n      <td>...</td>\n    </tr>\n    <tr>\n      <th>12115</th>\n      <td>A&amp;W</td>\n      <td>cc25ae4f093b33ba0afd1dbc0dd20324</td>\n      <td>3.5</td>\n      <td>$</td>\n      <td>49.265442,-123.187738</td>\n      <td>321.985495</td>\n      <td>yelp</td>\n    </tr>\n    <tr>\n      <th>12116</th>\n      <td>Dairy Queen / Orange Julius</td>\n      <td>cc25ae4f093b33ba0afd1dbc0dd20324</td>\n      <td>4.5</td>\n      <td>NaN</td>\n      <td>49.265442,-123.187738</td>\n      <td>987.901958</td>\n      <td>yelp</td>\n    </tr>\n    <tr>\n      <th>12117</th>\n      <td>Freshslice Pizza</td>\n      <td>cc25ae4f093b33ba0afd1dbc0dd20324</td>\n      <td>3.5</td>\n      <td>$</td>\n      <td>49.265442,-123.187738</td>\n      <td>333.363870</td>\n      <td>yelp</td>\n    </tr>\n    <tr>\n      <th>12118</th>\n      <td>720 Sweets</td>\n      <td>cc25ae4f093b33ba0afd1dbc0dd20324</td>\n      <td>3.5</td>\n      <td>$</td>\n      <td>49.265442,-123.187738</td>\n      <td>782.192237</td>\n      <td>yelp</td>\n    </tr>\n    <tr>\n      <th>12119</th>\n      <td>Thai Basil</td>\n      <td>cc25ae4f093b33ba0afd1dbc0dd20324</td>\n      <td>3.5</td>\n      <td>$</td>\n      <td>49.265442,-123.187738</td>\n      <td>765.806809</td>\n      <td>yelp</td>\n    </tr>\n  </tbody>\n</table>\n<p>12120 rows × 7 columns</p>\n</div>"
     },
     "execution_count": 78,
     "metadata": {},
     "output_type": "execute_result"
    }
   ],
   "source": [
    "YELP_df\n"
   ],
   "metadata": {
    "collapsed": false,
    "ExecuteTime": {
     "end_time": "2023-09-23T19:09:45.802577Z",
     "start_time": "2023-09-23T19:09:45.797439Z"
    }
   }
  },
  {
   "cell_type": "code",
   "execution_count": 102,
   "outputs": [
    {
     "data": {
      "text/plain": "                                      name                        station_id  \\\n0             La Taqueria Pinche Taco Shop  7a19c49f486d7c0c02b3685d7b240448   \n1                                     Saku  7a19c49f486d7c0c02b3685d7b240448   \n2                                Uma Sushi  7a19c49f486d7c0c02b3685d7b240448   \n3                  Hokkaido Ramen Santouka  7a19c49f486d7c0c02b3685d7b240448   \n4     iDen & Quan Ju De Beijing Duck House  7a19c49f486d7c0c02b3685d7b240448   \n...                                    ...                               ...   \n2259                       The Fringe Cafe  cc25ae4f093b33ba0afd1dbc0dd20324   \n2260                      Coppertank Grill  cc25ae4f093b33ba0afd1dbc0dd20324   \n2261                         Good Co. Kits  cc25ae4f093b33ba0afd1dbc0dd20324   \n2262              Castaway Bar and Kitchen  cc25ae4f093b33ba0afd1dbc0dd20324   \n2263                    Nick's Barber Shop  cc25ae4f093b33ba0afd1dbc0dd20324   \n\n      rating price               lat_long    distance source  \\\n0        4.0    $$  49.262487,-123.114397  169.517456   yelp   \n1        4.5    $$  49.262487,-123.114397  178.845344   yelp   \n2        4.5   $$$  49.262487,-123.114397  152.157897   yelp   \n3        4.0    $$  49.262487,-123.114397  191.044234   yelp   \n4        3.5   NaN  49.262487,-123.114397  263.641336   yelp   \n...      ...   ...                    ...         ...    ...   \n2259     5.8   2.0  49.265442,-123.187738  955.000000     FS   \n2260     5.7   1.0  49.265442,-123.187738  941.000000     FS   \n2261     NaN   1.0  49.265442,-123.187738  791.000000     FS   \n2262     NaN   2.0  49.265442,-123.187738  809.000000     FS   \n2263     NaN   NaN  49.265442,-123.187738  885.000000     FS   \n\n                          id                    fsq_id  \n0     6iOAgzJ0DRZNSKA3FSrrOg                       NaN  \n1     XAH2HpuUUtu7CUO26pbs4w                       NaN  \n2     4118Aq9LbkvUr4s719uUkA                       NaN  \n3     nkDZY5xqihF3XtZMzzfqqg                       NaN  \n4     Zi8Ywk36Ws_4zjw2gjMMFA                       NaN  \n...                      ...                       ...  \n2259                     NaN  4aa7f754f964a520484e20e3  \n2260                     NaN  4aa6a91df964a520864a20e3  \n2261                     NaN  6457401321f70230178ea1ea  \n2262                     NaN  5d29827cf5c8330023780aff  \n2263                     NaN  4d31ef57b6093704ac58f1df  \n\n[14384 rows x 9 columns]",
      "text/html": "<div>\n<style scoped>\n    .dataframe tbody tr th:only-of-type {\n        vertical-align: middle;\n    }\n\n    .dataframe tbody tr th {\n        vertical-align: top;\n    }\n\n    .dataframe thead th {\n        text-align: right;\n    }\n</style>\n<table border=\"1\" class=\"dataframe\">\n  <thead>\n    <tr style=\"text-align: right;\">\n      <th></th>\n      <th>name</th>\n      <th>station_id</th>\n      <th>rating</th>\n      <th>price</th>\n      <th>lat_long</th>\n      <th>distance</th>\n      <th>source</th>\n      <th>id</th>\n      <th>fsq_id</th>\n    </tr>\n  </thead>\n  <tbody>\n    <tr>\n      <th>0</th>\n      <td>La Taqueria Pinche Taco Shop</td>\n      <td>7a19c49f486d7c0c02b3685d7b240448</td>\n      <td>4.0</td>\n      <td>$$</td>\n      <td>49.262487,-123.114397</td>\n      <td>169.517456</td>\n      <td>yelp</td>\n      <td>6iOAgzJ0DRZNSKA3FSrrOg</td>\n      <td>NaN</td>\n    </tr>\n    <tr>\n      <th>1</th>\n      <td>Saku</td>\n      <td>7a19c49f486d7c0c02b3685d7b240448</td>\n      <td>4.5</td>\n      <td>$$</td>\n      <td>49.262487,-123.114397</td>\n      <td>178.845344</td>\n      <td>yelp</td>\n      <td>XAH2HpuUUtu7CUO26pbs4w</td>\n      <td>NaN</td>\n    </tr>\n    <tr>\n      <th>2</th>\n      <td>Uma Sushi</td>\n      <td>7a19c49f486d7c0c02b3685d7b240448</td>\n      <td>4.5</td>\n      <td>$$$</td>\n      <td>49.262487,-123.114397</td>\n      <td>152.157897</td>\n      <td>yelp</td>\n      <td>4118Aq9LbkvUr4s719uUkA</td>\n      <td>NaN</td>\n    </tr>\n    <tr>\n      <th>3</th>\n      <td>Hokkaido Ramen Santouka</td>\n      <td>7a19c49f486d7c0c02b3685d7b240448</td>\n      <td>4.0</td>\n      <td>$$</td>\n      <td>49.262487,-123.114397</td>\n      <td>191.044234</td>\n      <td>yelp</td>\n      <td>nkDZY5xqihF3XtZMzzfqqg</td>\n      <td>NaN</td>\n    </tr>\n    <tr>\n      <th>4</th>\n      <td>iDen &amp; Quan Ju De Beijing Duck House</td>\n      <td>7a19c49f486d7c0c02b3685d7b240448</td>\n      <td>3.5</td>\n      <td>NaN</td>\n      <td>49.262487,-123.114397</td>\n      <td>263.641336</td>\n      <td>yelp</td>\n      <td>Zi8Ywk36Ws_4zjw2gjMMFA</td>\n      <td>NaN</td>\n    </tr>\n    <tr>\n      <th>...</th>\n      <td>...</td>\n      <td>...</td>\n      <td>...</td>\n      <td>...</td>\n      <td>...</td>\n      <td>...</td>\n      <td>...</td>\n      <td>...</td>\n      <td>...</td>\n    </tr>\n    <tr>\n      <th>2259</th>\n      <td>The Fringe Cafe</td>\n      <td>cc25ae4f093b33ba0afd1dbc0dd20324</td>\n      <td>5.8</td>\n      <td>2.0</td>\n      <td>49.265442,-123.187738</td>\n      <td>955.000000</td>\n      <td>FS</td>\n      <td>NaN</td>\n      <td>4aa7f754f964a520484e20e3</td>\n    </tr>\n    <tr>\n      <th>2260</th>\n      <td>Coppertank Grill</td>\n      <td>cc25ae4f093b33ba0afd1dbc0dd20324</td>\n      <td>5.7</td>\n      <td>1.0</td>\n      <td>49.265442,-123.187738</td>\n      <td>941.000000</td>\n      <td>FS</td>\n      <td>NaN</td>\n      <td>4aa6a91df964a520864a20e3</td>\n    </tr>\n    <tr>\n      <th>2261</th>\n      <td>Good Co. Kits</td>\n      <td>cc25ae4f093b33ba0afd1dbc0dd20324</td>\n      <td>NaN</td>\n      <td>1.0</td>\n      <td>49.265442,-123.187738</td>\n      <td>791.000000</td>\n      <td>FS</td>\n      <td>NaN</td>\n      <td>6457401321f70230178ea1ea</td>\n    </tr>\n    <tr>\n      <th>2262</th>\n      <td>Castaway Bar and Kitchen</td>\n      <td>cc25ae4f093b33ba0afd1dbc0dd20324</td>\n      <td>NaN</td>\n      <td>2.0</td>\n      <td>49.265442,-123.187738</td>\n      <td>809.000000</td>\n      <td>FS</td>\n      <td>NaN</td>\n      <td>5d29827cf5c8330023780aff</td>\n    </tr>\n    <tr>\n      <th>2263</th>\n      <td>Nick's Barber Shop</td>\n      <td>cc25ae4f093b33ba0afd1dbc0dd20324</td>\n      <td>NaN</td>\n      <td>NaN</td>\n      <td>49.265442,-123.187738</td>\n      <td>885.000000</td>\n      <td>FS</td>\n      <td>NaN</td>\n      <td>4d31ef57b6093704ac58f1df</td>\n    </tr>\n  </tbody>\n</table>\n<p>14384 rows × 9 columns</p>\n</div>"
     },
     "execution_count": 102,
     "metadata": {},
     "output_type": "execute_result"
    }
   ],
   "source": [
    "### JOIN STATION and YELP / FS\n",
    "\n",
    "# Combined_df = STATIONS_abr.merge(YELP,on='lat_long', suffixes=('_station', '_yelp'))\n",
    "# Combined_df\n",
    "## Output = 11,970 records\n",
    "\n",
    "# Attempt 1: FAIL\n",
    "# Combined_df_FULL=Combined_df.merge(FS,on='lat_long',suffixes=('_combined', '_FS')) \n",
    "# Combined_df_FULL\n",
    "# ## Output = 111,545 records.\n",
    "\n",
    "#Attempt  2: FAIL\n",
    "# Combined_df_FULL=Combined_df.merge(FS,on='lat_long',how='left',suffixes=('_combined', '_FS')) \n",
    "# Combined_df_FULL\n",
    "# ## Output = 111,545 records.\n",
    "\n",
    "## Attempt 3: \n",
    "Combined_Locations = pd.concat([YELP_df,FS_df])\n",
    "Combined_Locations\n",
    "\n"
   ],
   "metadata": {
    "collapsed": false,
    "ExecuteTime": {
     "end_time": "2023-09-23T21:23:59.743578Z",
     "start_time": "2023-09-23T21:23:59.729885Z"
    }
   }
  },
  {
   "cell_type": "code",
   "execution_count": 108,
   "outputs": [
    {
     "data": {
      "text/plain": "source                             FS   yelp\nname                                        \nCactus Club Cafe                  0.0  102.0\nSaku                              0.0   62.0\nBanana Leaf                       0.0   56.0\nHokkaido Ramen Santouka           0.0   55.0\nRamen Danbo                       0.0   54.0\n...                               ...    ...\nFrankie's Italian Kitchen & Bar   9.0    0.0\nFrank's Barber Shop               8.0    0.0\nFox Cabaret                      36.0    0.0\nFinfolk                           6.0    0.0\nSpirithouse                       2.0    0.0\n\n[1584 rows x 2 columns]",
      "text/html": "<div>\n<style scoped>\n    .dataframe tbody tr th:only-of-type {\n        vertical-align: middle;\n    }\n\n    .dataframe tbody tr th {\n        vertical-align: top;\n    }\n\n    .dataframe thead th {\n        text-align: right;\n    }\n</style>\n<table border=\"1\" class=\"dataframe\">\n  <thead>\n    <tr style=\"text-align: right;\">\n      <th>source</th>\n      <th>FS</th>\n      <th>yelp</th>\n    </tr>\n    <tr>\n      <th>name</th>\n      <th></th>\n      <th></th>\n    </tr>\n  </thead>\n  <tbody>\n    <tr>\n      <th>Cactus Club Cafe</th>\n      <td>0.0</td>\n      <td>102.0</td>\n    </tr>\n    <tr>\n      <th>Saku</th>\n      <td>0.0</td>\n      <td>62.0</td>\n    </tr>\n    <tr>\n      <th>Banana Leaf</th>\n      <td>0.0</td>\n      <td>56.0</td>\n    </tr>\n    <tr>\n      <th>Hokkaido Ramen Santouka</th>\n      <td>0.0</td>\n      <td>55.0</td>\n    </tr>\n    <tr>\n      <th>Ramen Danbo</th>\n      <td>0.0</td>\n      <td>54.0</td>\n    </tr>\n    <tr>\n      <th>...</th>\n      <td>...</td>\n      <td>...</td>\n    </tr>\n    <tr>\n      <th>Frankie's Italian Kitchen &amp; Bar</th>\n      <td>9.0</td>\n      <td>0.0</td>\n    </tr>\n    <tr>\n      <th>Frank's Barber Shop</th>\n      <td>8.0</td>\n      <td>0.0</td>\n    </tr>\n    <tr>\n      <th>Fox Cabaret</th>\n      <td>36.0</td>\n      <td>0.0</td>\n    </tr>\n    <tr>\n      <th>Finfolk</th>\n      <td>6.0</td>\n      <td>0.0</td>\n    </tr>\n    <tr>\n      <th>Spirithouse</th>\n      <td>2.0</td>\n      <td>0.0</td>\n    </tr>\n  </tbody>\n</table>\n<p>1584 rows × 2 columns</p>\n</div>"
     },
     "execution_count": 108,
     "metadata": {},
     "output_type": "execute_result"
    }
   ],
   "source": [
    "result=Combined_Locations.groupby(['name'])['source'].value_counts().unstack(). fillna(0).sort_index()\n",
    "result.sort_values(by='yelp', ascending=False)\n",
    "\n"
   ],
   "metadata": {
    "collapsed": false,
    "ExecuteTime": {
     "end_time": "2023-09-23T21:25:48.895453Z",
     "start_time": "2023-09-23T21:25:48.878770Z"
    }
   }
  },
  {
   "cell_type": "markdown",
   "metadata": {},
   "source": [
    "Provide a visualization that you used as part of your EDA process. Explain the initial pattern or relationship you discoved through this visualization. "
   ]
  },
  {
   "cell_type": "code",
   "execution_count": 129,
   "metadata": {
    "ExecuteTime": {
     "end_time": "2023-09-23T21:41:05.367159Z",
     "start_time": "2023-09-23T21:41:05.357975Z"
    }
   },
   "outputs": [
    {
     "name": "stdout",
     "output_type": "stream",
     "text": [
      "            Count  Percentage\n",
      "Occurences   1388   87.626263\n"
     ]
    }
   ],
   "source": [
    "## What are the scenarios where Yelp provided more information than FS\n",
    "# Calculate the count of rows that satisfy the condition\n",
    "count_condition = (result['yelp'] > result['FS']).sum()\n",
    "\n",
    "# Calculate the percentage of rows that satisfy the condition relative to the total number of rows\n",
    "percent_condition = (count_condition / len(result)) * 100\n",
    "\n",
    "# Create the Summary\n",
    "output = pd.DataFrame({'Count': [count_condition], 'Percentage': [percent_condition]}, index=[\"Occurences\"])\n",
    "print(output)"
   ]
  },
  {
   "cell_type": "markdown",
   "metadata": {},
   "source": [
    "# Database"
   ]
  },
  {
   "cell_type": "markdown",
   "metadata": {},
   "source": [
    "Put all your results in an SQLite3 database (remember, SQLite stores its databases as files in your local machine - make sure to create your database in your project's data/ directory!)"
   ]
  },
  {
   "cell_type": "code",
   "execution_count": null,
   "metadata": {},
   "outputs": [],
   "source": []
  },
  {
   "cell_type": "markdown",
   "metadata": {},
   "source": [
    "Look at the data before and after the join to validate your data."
   ]
  },
  {
   "cell_type": "code",
   "execution_count": null,
   "metadata": {},
   "outputs": [],
   "source": []
  }
 ],
 "metadata": {
  "kernelspec": {
   "display_name": "Python 3",
   "language": "python",
   "name": "python3"
  },
  "language_info": {
   "codemirror_mode": {
    "name": "ipython",
    "version": 3
   },
   "file_extension": ".py",
   "mimetype": "text/x-python",
   "name": "python",
   "nbconvert_exporter": "python",
   "pygments_lexer": "ipython3",
   "version": "3.8.5"
  }
 },
 "nbformat": 4,
 "nbformat_minor": 4
}
