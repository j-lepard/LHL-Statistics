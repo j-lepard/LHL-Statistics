{
 "cells": [
  {
   "cell_type": "markdown",
   "metadata": {},
   "source": [
    "Join the data from Part 1 with the data from Part 2 to create a new dataframe."
   ]
  },
  {
   "cell_type": "code",
   "execution_count": 0,
   "metadata": {},
   "outputs": [],
   "source": [
    "import pandas as pd\n",
    "\n",
    "## Import .csv from API calls\n",
    "STATIONS= pd.read_csv('../data/city_bikes.csv')\n",
    "YELP = pd.read_csv('../data/Yelp_location_results.csv')\n",
    "FS = pd.read_csv('../data/FS_location_results.csv')"
   ]
  },
  {
   "cell_type": "code",
   "execution_count": null,
   "outputs": [],
   "source": [
    "### EXPLORATION AND TESTING OF PRIMARY KEY BETWEEN TABLES. \n",
    "\n",
    "#Architecture \n",
    "# - STATIONS will be the LEFT TABLE as it is the 'master' list of station id and the lookup key.\n",
    "# - LAT/LONG for the STATION will be the primary key\n",
    "# - JOIN dataframes on LAT/LONG. Anticipate there will be multiple results per station id (1-many)\n",
    "\n",
    "\n",
    "# STATIONS.drop_duplicates(subset='lat_long',keep=\"first\").count()\n",
    "\n",
    "## Add primary key to Yelp based on the Lat/Long of the associated station coords\n",
    "## Convert it to string or it will just ADD them! doh\n",
    "\n",
    "YELP['lat_long']=YELP['latitude'].astype(str) +\",\"+ YELP['longitude'].astype(str)\n",
    "YELP['source']=\"yelp\"\n",
    "YELP_df = YELP[['name','station_id','rating','price','lat_long','distance','source']]\n",
    "YELP_df\n",
    "## Confirm that generated pkey ('lat_long' can be used to join tables. \n",
    "## Postive outcome: use outpt of concatenated field as input to filter the Station list. \n",
    "## Result : success. \n",
    "## Conclusion: Use the generated 'lat_long' as a primary key to join tables. \n",
    "\n",
    "# Sample Lat_long from Yelp='49.262487,-123.114397'\n",
    "# \n",
    "# STATIONS_filter = STATIONS[STATIONS['lat_long']=='49.262487,-123.114397']\n",
    "# STATIONS_filter\n",
    "\n",
    "\n"
   ],
   "metadata": {
    "collapsed": false
   }
  },
  {
   "cell_type": "code",
   "execution_count": 101,
   "outputs": [
    {
     "data": {
      "text/plain": "                          name                        station_id  rating  \\\n0       Rogue Kitchen & Wetbar  7a19c49f486d7c0c02b3685d7b240448     8.2   \n1          33 Acres Brewing Co  7a19c49f486d7c0c02b3685d7b240448     9.4   \n2              The Juice Truck  7a19c49f486d7c0c02b3685d7b240448     8.8   \n3             Biercraft Bistro  7a19c49f486d7c0c02b3685d7b240448     8.1   \n4           Faculty Brewing Co  7a19c49f486d7c0c02b3685d7b240448     8.3   \n...                        ...                               ...     ...   \n2259           The Fringe Cafe  cc25ae4f093b33ba0afd1dbc0dd20324     5.8   \n2260          Coppertank Grill  cc25ae4f093b33ba0afd1dbc0dd20324     5.7   \n2261             Good Co. Kits  cc25ae4f093b33ba0afd1dbc0dd20324     NaN   \n2262  Castaway Bar and Kitchen  cc25ae4f093b33ba0afd1dbc0dd20324     NaN   \n2263        Nick's Barber Shop  cc25ae4f093b33ba0afd1dbc0dd20324     NaN   \n\n      price               lat_long  distance source                    fsq_id  \n0       3.0  49.262487,-123.114397       250     FS  4f60fc8be4b0a9d090a1f850  \n1       2.0  49.262487,-123.114397       674     FS  51b201d27dd249ae714ba728  \n2       1.0  49.262487,-123.114397       779     FS  537e3ec8498ec730b9966b97  \n3       3.0  49.262487,-123.114397       744     FS  4cbf89f200d8370403c8445c  \n4       2.0  49.262487,-123.114397       994     FS  55d97956498e2c299b5830c0  \n...     ...                    ...       ...    ...                       ...  \n2259    2.0  49.265442,-123.187738       955     FS  4aa7f754f964a520484e20e3  \n2260    1.0  49.265442,-123.187738       941     FS  4aa6a91df964a520864a20e3  \n2261    1.0  49.265442,-123.187738       791     FS  6457401321f70230178ea1ea  \n2262    2.0  49.265442,-123.187738       809     FS  5d29827cf5c8330023780aff  \n2263    NaN  49.265442,-123.187738       885     FS  4d31ef57b6093704ac58f1df  \n\n[2264 rows x 8 columns]",
      "text/html": "<div>\n<style scoped>\n    .dataframe tbody tr th:only-of-type {\n        vertical-align: middle;\n    }\n\n    .dataframe tbody tr th {\n        vertical-align: top;\n    }\n\n    .dataframe thead th {\n        text-align: right;\n    }\n</style>\n<table border=\"1\" class=\"dataframe\">\n  <thead>\n    <tr style=\"text-align: right;\">\n      <th></th>\n      <th>name</th>\n      <th>station_id</th>\n      <th>rating</th>\n      <th>price</th>\n      <th>lat_long</th>\n      <th>distance</th>\n      <th>source</th>\n      <th>fsq_id</th>\n    </tr>\n  </thead>\n  <tbody>\n    <tr>\n      <th>0</th>\n      <td>Rogue Kitchen &amp; Wetbar</td>\n      <td>7a19c49f486d7c0c02b3685d7b240448</td>\n      <td>8.2</td>\n      <td>3.0</td>\n      <td>49.262487,-123.114397</td>\n      <td>250</td>\n      <td>FS</td>\n      <td>4f60fc8be4b0a9d090a1f850</td>\n    </tr>\n    <tr>\n      <th>1</th>\n      <td>33 Acres Brewing Co</td>\n      <td>7a19c49f486d7c0c02b3685d7b240448</td>\n      <td>9.4</td>\n      <td>2.0</td>\n      <td>49.262487,-123.114397</td>\n      <td>674</td>\n      <td>FS</td>\n      <td>51b201d27dd249ae714ba728</td>\n    </tr>\n    <tr>\n      <th>2</th>\n      <td>The Juice Truck</td>\n      <td>7a19c49f486d7c0c02b3685d7b240448</td>\n      <td>8.8</td>\n      <td>1.0</td>\n      <td>49.262487,-123.114397</td>\n      <td>779</td>\n      <td>FS</td>\n      <td>537e3ec8498ec730b9966b97</td>\n    </tr>\n    <tr>\n      <th>3</th>\n      <td>Biercraft Bistro</td>\n      <td>7a19c49f486d7c0c02b3685d7b240448</td>\n      <td>8.1</td>\n      <td>3.0</td>\n      <td>49.262487,-123.114397</td>\n      <td>744</td>\n      <td>FS</td>\n      <td>4cbf89f200d8370403c8445c</td>\n    </tr>\n    <tr>\n      <th>4</th>\n      <td>Faculty Brewing Co</td>\n      <td>7a19c49f486d7c0c02b3685d7b240448</td>\n      <td>8.3</td>\n      <td>2.0</td>\n      <td>49.262487,-123.114397</td>\n      <td>994</td>\n      <td>FS</td>\n      <td>55d97956498e2c299b5830c0</td>\n    </tr>\n    <tr>\n      <th>...</th>\n      <td>...</td>\n      <td>...</td>\n      <td>...</td>\n      <td>...</td>\n      <td>...</td>\n      <td>...</td>\n      <td>...</td>\n      <td>...</td>\n    </tr>\n    <tr>\n      <th>2259</th>\n      <td>The Fringe Cafe</td>\n      <td>cc25ae4f093b33ba0afd1dbc0dd20324</td>\n      <td>5.8</td>\n      <td>2.0</td>\n      <td>49.265442,-123.187738</td>\n      <td>955</td>\n      <td>FS</td>\n      <td>4aa7f754f964a520484e20e3</td>\n    </tr>\n    <tr>\n      <th>2260</th>\n      <td>Coppertank Grill</td>\n      <td>cc25ae4f093b33ba0afd1dbc0dd20324</td>\n      <td>5.7</td>\n      <td>1.0</td>\n      <td>49.265442,-123.187738</td>\n      <td>941</td>\n      <td>FS</td>\n      <td>4aa6a91df964a520864a20e3</td>\n    </tr>\n    <tr>\n      <th>2261</th>\n      <td>Good Co. Kits</td>\n      <td>cc25ae4f093b33ba0afd1dbc0dd20324</td>\n      <td>NaN</td>\n      <td>1.0</td>\n      <td>49.265442,-123.187738</td>\n      <td>791</td>\n      <td>FS</td>\n      <td>6457401321f70230178ea1ea</td>\n    </tr>\n    <tr>\n      <th>2262</th>\n      <td>Castaway Bar and Kitchen</td>\n      <td>cc25ae4f093b33ba0afd1dbc0dd20324</td>\n      <td>NaN</td>\n      <td>2.0</td>\n      <td>49.265442,-123.187738</td>\n      <td>809</td>\n      <td>FS</td>\n      <td>5d29827cf5c8330023780aff</td>\n    </tr>\n    <tr>\n      <th>2263</th>\n      <td>Nick's Barber Shop</td>\n      <td>cc25ae4f093b33ba0afd1dbc0dd20324</td>\n      <td>NaN</td>\n      <td>NaN</td>\n      <td>49.265442,-123.187738</td>\n      <td>885</td>\n      <td>FS</td>\n      <td>4d31ef57b6093704ac58f1df</td>\n    </tr>\n  </tbody>\n</table>\n<p>2264 rows × 8 columns</p>\n</div>"
     },
     "execution_count": 101,
     "metadata": {},
     "output_type": "execute_result"
    }
   ],
   "source": [
    "### CREATE FOREIGN KEYS IN YELP AND FS DATAFRAMES\n",
    "\n",
    "## Eliminate extra fields in STATIONS\n",
    "STATIONS_abr = STATIONS[['lat_long','name','free_bikes']]\n",
    "STATIONS_abr\n",
    "\n",
    "\n",
    "YELP['lat_long']=YELP['latitude'].astype(str) +\",\"+ YELP['longitude'].astype(str)\n",
    "YELP['source']=\"yelp\"\n",
    "YELP_df = YELP[['name','station_id','rating','price','lat_long','distance','source','id']]\n",
    "YELP_df\n",
    "## QA - CHECK - 12,120 records. Lat_long Generated. \n",
    "\n",
    "FS['lat_long']=FS['latitude'].astype(str) +\",\"+ FS['longitude'].astype(str)\n",
    "FS['source']=\"FS\"\n",
    "FS_df = FS[['name','station_id','rating','price','lat_long','distance','source','fsq_id']]\n",
    "FS_df\n",
    "\n",
    "## QA - Observation - FS may have limited the results as there is an curious consistency about the max number of results per STATION\n",
    "## todo: investigate why there might be a max of then bars per stationid in the FS results \n",
    "##FS.groupby('station_id')['name'].count().sort_values(ascending=False)\n"
   ],
   "metadata": {
    "collapsed": false,
    "ExecuteTime": {
     "end_time": "2023-09-23T21:23:41.452302Z",
     "start_time": "2023-09-23T21:23:41.439631Z"
    }
   }
  },
  {
   "cell_type": "markdown",
   "metadata": {},
   "source": [
    "# Database"
   ]
  },
  {
   "cell_type": "markdown",
   "metadata": {},
   "source": [
    "Put all your results in an SQLite3 database (remember, SQLite stores its databases as files in your local machine - make sure to create your database in your project's data/ directory!)"
   ]
  },
  {
   "cell_type": "code",
   "execution_count": 132,
   "metadata": {
    "ExecuteTime": {
     "end_time": "2023-09-23T22:09:08.957978Z",
     "start_time": "2023-09-23T22:09:08.950258Z"
    }
   },
   "outputs": [
    {
     "name": "stdout",
     "output_type": "stream",
     "text": [
      "connection to sq3 db successful\n"
     ]
    }
   ],
   "source": [
    "import sqlite3\n",
    "from sqlite3 import Error\n",
    "\n",
    "\n",
    "def create_connection(path):\n",
    "    connection = None\n",
    "    try:\n",
    "        connection = sqlite3.connect(path)\n",
    "        print(\"connection to sq3 db successful\")\n",
    "    except Error as e:\n",
    "        print(f\"The error '{e}' happened\")\n",
    "\n",
    "    return connection\n",
    "\n",
    "## Create a CONNECTION between python and the sqlite file 'sm_app'\n",
    "connection = create_connection('../data/vancouver_bikes')"
   ]
  },
  {
   "cell_type": "code",
   "execution_count": null,
   "outputs": [],
   "source": [
    "\n",
    "## Create TABLES\n",
    "'''\n",
    "users\n",
    "posts\n",
    "comments\n",
    "likes\n",
    "\n",
    "TO RUN A QUERY (to create tables) you need a function. \n",
    "'''\n",
    "\n",
    "def execute_qry(connection, query):\n",
    "    cursor = connection.cursor()\n",
    "    try:\n",
    "        cursor.execute(query)\n",
    "        connection.commit()\n",
    "        print(\"Query executed successfully\")\n",
    "    except Error as e:\n",
    "        print(f\"Computer reported '{e}' error\")\n",
    "\n",
    "\n",
    "#### QUERIES ######\n",
    "\n",
    "create_user_tble = \"\"\"\n",
    "CREATE TABLE IF NOT EXISTS users (\n",
    "    id INTEGER PRIMARY KEY AUTOINCREMENT,\n",
    "    name TEXT NOT NULL,\n",
    "    age INTEGER,\n",
    "    gender TEXT,\n",
    "    nationality TEXT\n",
    "    ); \n",
    "\"\"\""
   ],
   "metadata": {
    "collapsed": false
   }
  },
  {
   "cell_type": "markdown",
   "metadata": {},
   "source": [
    "Look at the data before and after the join to validate your data."
   ]
  },
  {
   "cell_type": "code",
   "execution_count": null,
   "metadata": {},
   "outputs": [],
   "source": []
  }
 ],
 "metadata": {
  "kernelspec": {
   "display_name": "Python 3",
   "language": "python",
   "name": "python3"
  },
  "language_info": {
   "codemirror_mode": {
    "name": "ipython",
    "version": 3
   },
   "file_extension": ".py",
   "mimetype": "text/x-python",
   "name": "python",
   "nbconvert_exporter": "python",
   "pygments_lexer": "ipython3",
   "version": "3.8.5"
  }
 },
 "nbformat": 4,
 "nbformat_minor": 4
}
