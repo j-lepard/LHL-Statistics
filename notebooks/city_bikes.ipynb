{
 "cells": [
  {
   "cell_type": "markdown",
   "metadata": {},
   "source": [
    "# CityBikes"
   ]
  },
  {
   "cell_type": "markdown",
   "metadata": {},
   "source": [
    "Send a request to CityBikes for the city of your choice. "
   ]
  },
  {
   "cell_type": "code",
   "execution_count": 1,
   "outputs": [],
   "source": [],
   "metadata": {
    "collapsed": false,
    "ExecuteTime": {
     "end_time": "2023-09-21T15:04:42.756423Z",
     "start_time": "2023-09-21T15:04:42.734469Z"
    }
   }
  },
  {
   "cell_type": "markdown",
   "source": [
    "## City Bike Approach\n",
    "\n",
    "### Sandbox and POC \n",
    "* GET the list of ALL providers using the general link\n",
    "* In the Main list there are several providers for each city (Vancovuer x3). \n",
    "* There are not specific details in the main list. \n",
    "* GET requests are required for each provider in the target city. \n",
    "* Each **detailed** request will have to be consolidated into a DataFrame\n"
   ],
   "metadata": {
    "collapsed": false
   }
  },
  {
   "cell_type": "markdown",
   "source": [
    "## Step 1 - Obtain Master List of City Bike providers\n",
    "\n",
    "* Library required:\n",
    "    * requests - for API GET\n",
    "    * json - to import the json response \n",
    "    * pandas to manipulate the dataframes"
   ],
   "metadata": {
    "collapsed": false
   }
  },
  {
   "cell_type": "code",
   "execution_count": 2,
   "outputs": [],
   "source": [
    "import requests\n",
    "import json\n",
    "import pandas as pd"
   ],
   "metadata": {
    "collapsed": false,
    "ExecuteTime": {
     "end_time": "2023-09-21T15:04:43.793227Z",
     "start_time": "2023-09-21T15:04:42.738774Z"
    }
   }
  },
  {
   "cell_type": "code",
   "execution_count": null,
   "metadata": {},
   "outputs": [],
   "source": [
    "## Create a funtion to pull City Bike info. \n",
    "'''City is the only parameter for the call. The default will be null'''\n",
    "\n",
    "provider_id =''\n",
    "url = f\"http://api.citybik.es/v2/networks/{provider_id}\"\n",
    "payload = {}\n",
    "headers = {}\n",
    "print(url)\n",
    "\n",
    "response = requests.request(\"GET\", url, headers=headers, data=payload)\n",
    "\n",
    "print(response.text)\n",
    "\n",
    "if response.status_code == 200:\n",
    "    # Construct the filename with the index\n",
    "    filename = f'output_citybike_ALL.json'\n",
    "    with open(filename, 'w') as json_file:\n",
    "        json.dump(response.json(), json_file, indent=4)\n",
    "        print('JSON data saved successfully.')\n",
    "else:\n",
    "    print(f\"Error: Received status code {response.status_code}\")\n",
    "\n",
    "\n"
   ]
  },
  {
   "cell_type": "markdown",
   "source": [
    "## Step 2 - Parse list to identify provider ID for Target City\n",
    "\n",
    "* create an object within Python using the json response.\n",
    "* Dont forget to NORMALIZE (ie flatten it). \n",
    "\n",
    "Json structure: \n",
    "* networks\n",
    "    * company\n",
    "    * href\n",
    "    * id\n",
    "    * location:\n",
    "        * city: **Target City**\n",
    "    * name"
   ],
   "metadata": {
    "collapsed": false
   }
  },
  {
   "cell_type": "code",
   "execution_count": 4,
   "outputs": [
    {
     "data": {
      "text/plain": "                                               company  \\\n0                                     [ЗАО «СитиБайк»]   \n1                       [Urban Infrastructure Partner]   \n2                                  [Comunicare S.r.l.]   \n3                                 [Cyclopolis Systems]   \n4                                 [Cyclopolis Systems]   \n..                                                 ...   \n585  [Instituto Tecnológico de Castilla y León (ITCL)]   \n586  [Instituto Tecnológico de Castilla y León (ITCL)]   \n587  [Instituto Tecnológico de Castilla y León (ITCL)]   \n588              [PBSC Urban Solutions, Shift Transit]   \n589                                    [Nextbike GmbH]   \n\n                                 href                   id             name  \\\n0        /v2/networks/velobike-moscow      velobike-moscow         Velobike   \n1        /v2/networks/baerum-bysykkel      baerum-bysykkel         Bysykkel   \n2       /v2/networks/bicincitta-siena     bicincitta-siena       Bicincittà   \n3    /v2/networks/cyclopolis-maroussi  cyclopolis-maroussi       Cyclopolis   \n4     /v2/networks/cyclopolis-nafplio   cyclopolis-nafplio       Cyclopolis   \n..                                ...                  ...              ...   \n585             /v2/networks/albabici             albabici         AlbaBici   \n586          /v2/networks/bicialcazar          bicialcazar      BiciAlcázar   \n587        /v2/networks/tallinja-bike        tallinja-bike    Tallinja Bike   \n588      /v2/networks/tugo-bike-share      tugo-bike-share  Tugo Bike Share   \n589      /v2/networks/nextbike-prerov      nextbike-prerov  nextbike Prerov   \n\n               location.city location.country  location.latitude  \\\n0                     Moscow               RU          55.750000   \n1                      Bærum               NO          59.894550   \n2                      Siena               IT          43.318600   \n3                   Maroussi               GR          38.056872   \n4                    Nafplio               GR          37.563940   \n..                       ...              ...                ...   \n585                 Albacete               ES          38.994300   \n586      Alcázar de San Juan               ES          39.390100   \n587  Valletta - Malta - Gozo               MT          35.899200   \n588               Tucson, AZ               US          32.222500   \n589                   Prerov               CZ          49.457400   \n\n     location.longitude                                             source  \\\n0             37.616667                                                NaN   \n1             10.546343                                                NaN   \n2             11.330600  https://www.bicincitta.com/frmLeStazioni.aspx?...   \n3             23.808330                                                NaN   \n4             22.809340                                                NaN   \n..                  ...                                                ...   \n585           -1.860200                                                NaN   \n586           -3.210100                                                NaN   \n587           14.514100                                                NaN   \n588         -110.974900                                                NaN   \n589           17.440800                                                NaN   \n\n                                             gbfs_href license.name  \\\n0                                                  NaN          NaN   \n1                                                  NaN          NaN   \n2                                                  NaN          NaN   \n3                                                  NaN          NaN   \n4                                                  NaN          NaN   \n..                                                 ...          ...   \n585                                                NaN          NaN   \n586                                                NaN          NaN   \n587                                                NaN          NaN   \n588  https://tucson.publicbikesystem.net/customer/g...          NaN   \n589                                                NaN          NaN   \n\n    license.url ebikes  \n0           NaN    NaN  \n1           NaN    NaN  \n2           NaN    NaN  \n3           NaN    NaN  \n4           NaN    NaN  \n..          ...    ...  \n585         NaN    NaN  \n586         NaN    NaN  \n587         NaN    NaN  \n588         NaN    NaN  \n589         NaN    NaN  \n\n[590 rows x 13 columns]",
      "text/html": "<div>\n<style scoped>\n    .dataframe tbody tr th:only-of-type {\n        vertical-align: middle;\n    }\n\n    .dataframe tbody tr th {\n        vertical-align: top;\n    }\n\n    .dataframe thead th {\n        text-align: right;\n    }\n</style>\n<table border=\"1\" class=\"dataframe\">\n  <thead>\n    <tr style=\"text-align: right;\">\n      <th></th>\n      <th>company</th>\n      <th>href</th>\n      <th>id</th>\n      <th>name</th>\n      <th>location.city</th>\n      <th>location.country</th>\n      <th>location.latitude</th>\n      <th>location.longitude</th>\n      <th>source</th>\n      <th>gbfs_href</th>\n      <th>license.name</th>\n      <th>license.url</th>\n      <th>ebikes</th>\n    </tr>\n  </thead>\n  <tbody>\n    <tr>\n      <th>0</th>\n      <td>[ЗАО «СитиБайк»]</td>\n      <td>/v2/networks/velobike-moscow</td>\n      <td>velobike-moscow</td>\n      <td>Velobike</td>\n      <td>Moscow</td>\n      <td>RU</td>\n      <td>55.750000</td>\n      <td>37.616667</td>\n      <td>NaN</td>\n      <td>NaN</td>\n      <td>NaN</td>\n      <td>NaN</td>\n      <td>NaN</td>\n    </tr>\n    <tr>\n      <th>1</th>\n      <td>[Urban Infrastructure Partner]</td>\n      <td>/v2/networks/baerum-bysykkel</td>\n      <td>baerum-bysykkel</td>\n      <td>Bysykkel</td>\n      <td>Bærum</td>\n      <td>NO</td>\n      <td>59.894550</td>\n      <td>10.546343</td>\n      <td>NaN</td>\n      <td>NaN</td>\n      <td>NaN</td>\n      <td>NaN</td>\n      <td>NaN</td>\n    </tr>\n    <tr>\n      <th>2</th>\n      <td>[Comunicare S.r.l.]</td>\n      <td>/v2/networks/bicincitta-siena</td>\n      <td>bicincitta-siena</td>\n      <td>Bicincittà</td>\n      <td>Siena</td>\n      <td>IT</td>\n      <td>43.318600</td>\n      <td>11.330600</td>\n      <td>https://www.bicincitta.com/frmLeStazioni.aspx?...</td>\n      <td>NaN</td>\n      <td>NaN</td>\n      <td>NaN</td>\n      <td>NaN</td>\n    </tr>\n    <tr>\n      <th>3</th>\n      <td>[Cyclopolis Systems]</td>\n      <td>/v2/networks/cyclopolis-maroussi</td>\n      <td>cyclopolis-maroussi</td>\n      <td>Cyclopolis</td>\n      <td>Maroussi</td>\n      <td>GR</td>\n      <td>38.056872</td>\n      <td>23.808330</td>\n      <td>NaN</td>\n      <td>NaN</td>\n      <td>NaN</td>\n      <td>NaN</td>\n      <td>NaN</td>\n    </tr>\n    <tr>\n      <th>4</th>\n      <td>[Cyclopolis Systems]</td>\n      <td>/v2/networks/cyclopolis-nafplio</td>\n      <td>cyclopolis-nafplio</td>\n      <td>Cyclopolis</td>\n      <td>Nafplio</td>\n      <td>GR</td>\n      <td>37.563940</td>\n      <td>22.809340</td>\n      <td>NaN</td>\n      <td>NaN</td>\n      <td>NaN</td>\n      <td>NaN</td>\n      <td>NaN</td>\n    </tr>\n    <tr>\n      <th>...</th>\n      <td>...</td>\n      <td>...</td>\n      <td>...</td>\n      <td>...</td>\n      <td>...</td>\n      <td>...</td>\n      <td>...</td>\n      <td>...</td>\n      <td>...</td>\n      <td>...</td>\n      <td>...</td>\n      <td>...</td>\n      <td>...</td>\n    </tr>\n    <tr>\n      <th>585</th>\n      <td>[Instituto Tecnológico de Castilla y León (ITCL)]</td>\n      <td>/v2/networks/albabici</td>\n      <td>albabici</td>\n      <td>AlbaBici</td>\n      <td>Albacete</td>\n      <td>ES</td>\n      <td>38.994300</td>\n      <td>-1.860200</td>\n      <td>NaN</td>\n      <td>NaN</td>\n      <td>NaN</td>\n      <td>NaN</td>\n      <td>NaN</td>\n    </tr>\n    <tr>\n      <th>586</th>\n      <td>[Instituto Tecnológico de Castilla y León (ITCL)]</td>\n      <td>/v2/networks/bicialcazar</td>\n      <td>bicialcazar</td>\n      <td>BiciAlcázar</td>\n      <td>Alcázar de San Juan</td>\n      <td>ES</td>\n      <td>39.390100</td>\n      <td>-3.210100</td>\n      <td>NaN</td>\n      <td>NaN</td>\n      <td>NaN</td>\n      <td>NaN</td>\n      <td>NaN</td>\n    </tr>\n    <tr>\n      <th>587</th>\n      <td>[Instituto Tecnológico de Castilla y León (ITCL)]</td>\n      <td>/v2/networks/tallinja-bike</td>\n      <td>tallinja-bike</td>\n      <td>Tallinja Bike</td>\n      <td>Valletta - Malta - Gozo</td>\n      <td>MT</td>\n      <td>35.899200</td>\n      <td>14.514100</td>\n      <td>NaN</td>\n      <td>NaN</td>\n      <td>NaN</td>\n      <td>NaN</td>\n      <td>NaN</td>\n    </tr>\n    <tr>\n      <th>588</th>\n      <td>[PBSC Urban Solutions, Shift Transit]</td>\n      <td>/v2/networks/tugo-bike-share</td>\n      <td>tugo-bike-share</td>\n      <td>Tugo Bike Share</td>\n      <td>Tucson, AZ</td>\n      <td>US</td>\n      <td>32.222500</td>\n      <td>-110.974900</td>\n      <td>NaN</td>\n      <td>https://tucson.publicbikesystem.net/customer/g...</td>\n      <td>NaN</td>\n      <td>NaN</td>\n      <td>NaN</td>\n    </tr>\n    <tr>\n      <th>589</th>\n      <td>[Nextbike GmbH]</td>\n      <td>/v2/networks/nextbike-prerov</td>\n      <td>nextbike-prerov</td>\n      <td>nextbike Prerov</td>\n      <td>Prerov</td>\n      <td>CZ</td>\n      <td>49.457400</td>\n      <td>17.440800</td>\n      <td>NaN</td>\n      <td>NaN</td>\n      <td>NaN</td>\n      <td>NaN</td>\n      <td>NaN</td>\n    </tr>\n  </tbody>\n</table>\n<p>590 rows × 13 columns</p>\n</div>"
     },
     "execution_count": 4,
     "metadata": {},
     "output_type": "execute_result"
    }
   ],
   "source": [
    "city_bike_json= response.json()\n",
    "\n",
    "# Use pd.json_normalize to flatten the \"networks\" JSON array\n",
    "city_bike_df = pd.json_normalize(city_bike_json['networks'], errors='ignore')\n",
    "city_bike_df"
   ],
   "metadata": {
    "collapsed": false,
    "ExecuteTime": {
     "end_time": "2023-09-21T15:04:44.701774Z",
     "start_time": "2023-09-21T15:04:44.685449Z"
    }
   }
  },
  {
   "cell_type": "markdown",
   "metadata": {},
   "source": [
    "Parse through the response to get the details you want for the bike stations in that city (latitude, longitude, number of bikes). "
   ]
  },
  {
   "cell_type": "markdown",
   "source": [
    "## Step 3: Parse Main Directory for Target City\n",
    "\n",
    "* Filter the list of network providers for one that is in the target city. \n",
    "* declare a variable for 'provider id' based on filter result\n",
    "* use this variable the argument into a second API call to get the specific details on the provider. (overrides the default \"\")\n"
   ],
   "metadata": {
    "collapsed": false
   }
  },
  {
   "cell_type": "code",
   "execution_count": 5,
   "metadata": {
    "ExecuteTime": {
     "end_time": "2023-09-21T15:04:44.702461Z",
     "start_time": "2023-09-21T15:04:44.700147Z"
    }
   },
   "outputs": [
    {
     "data": {
      "text/plain": "210    mobibikes\nName: id, dtype: object"
     },
     "execution_count": 5,
     "metadata": {},
     "output_type": "execute_result"
    }
   ],
   "source": [
    "cities = city_bike_df[city_bike_df['location.city']=='Vancouver']\n",
    "city_ids = cities['id']\n",
    "city_ids \n",
    "    "
   ]
  },
  {
   "cell_type": "markdown",
   "source": [
    "# Step 4: Use Provider ID to return detailed information. \n",
    "* use existing API call from above, but amend with the [city_id] in the URL suffix.\n",
    "* Since there is only 1 provider in the target city, run the function as a standalone. \n",
    "* If there were multiple results, would nest it into a FOR LOOP to generate multiple api calls. "
   ],
   "metadata": {
    "collapsed": false
   }
  },
  {
   "cell_type": "code",
   "execution_count": 6,
   "outputs": [
    {
     "name": "stdout",
     "output_type": "stream",
     "text": [
      "http://api.citybik.es/v2/networks/mobibikes\n",
      "JSON data saved successfully.\n"
     ]
    }
   ],
   "source": [
    "# Use the Provider ID from above as the arguement for city_bike_api_get to receive the details on the provider. \n",
    "provider_id ='mobibikes'\n",
    "url = f\"http://api.citybik.es/v2/networks/{provider_id}\"\n",
    "payload = {}\n",
    "headers = {}\n",
    "print(url)\n",
    "\n",
    "response_mobibikes = requests.request(\"GET\", url, headers=headers, data=payload)\n",
    "\n",
    "# print(response.text)\n",
    "\n",
    "if response.status_code == 200:\n",
    "        # Construct the filename with the index\n",
    "        filename = f'output_{provider_id}.json'\n",
    "        \n",
    "        # Assuming you want to save the data as 'output....json'\n",
    "        with open(filename, 'w') as json_file:\n",
    "            json.dump(response_mobibikes.json(), json_file, indent=4)\n",
    "            print('JSON data saved successfully.')\n",
    "else:\n",
    "    print(f\"Error: Received status code {response.status_code}\")\n",
    "\n",
    "vancouver_json= response_mobibikes.json()\n"
   ],
   "metadata": {
    "collapsed": false,
    "ExecuteTime": {
     "end_time": "2023-09-21T15:04:45.308684Z",
     "start_time": "2023-09-21T15:04:44.704356Z"
    }
   }
  },
  {
   "cell_type": "code",
   "execution_count": 6,
   "outputs": [],
   "source": [],
   "metadata": {
    "collapsed": false,
    "ExecuteTime": {
     "end_time": "2023-09-21T15:04:45.308864Z",
     "start_time": "2023-09-21T15:04:45.306282Z"
    }
   }
  },
  {
   "cell_type": "markdown",
   "metadata": {},
   "source": [
    "Put your parsed results into a DataFrame."
   ]
  },
  {
   "cell_type": "code",
   "execution_count": 31,
   "metadata": {
    "ExecuteTime": {
     "end_time": "2023-09-21T16:58:41.345894Z",
     "start_time": "2023-09-21T16:58:41.337381Z"
    }
   },
   "outputs": [
    {
     "name": "stdout",
     "output_type": "stream",
     "text": [
      "<class 'pandas.core.frame.DataFrame'>\n",
      "RangeIndex: 245 entries, 0 to 244\n",
      "Data columns (total 15 columns):\n",
      " #   Column              Non-Null Count  Dtype  \n",
      "---  ------              --------------  -----  \n",
      " 0   empty_slots         245 non-null    int64  \n",
      " 1   free_bikes          245 non-null    int64  \n",
      " 2   id                  245 non-null    object \n",
      " 3   latitude            245 non-null    float64\n",
      " 4   longitude           245 non-null    float64\n",
      " 5   name                245 non-null    object \n",
      " 6   timestamp           245 non-null    object \n",
      " 7   extra.ebikes        245 non-null    int64  \n",
      " 8   extra.has_ebikes    245 non-null    bool   \n",
      " 9   extra.last_updated  245 non-null    int64  \n",
      " 10  extra.normal_bikes  245 non-null    int64  \n",
      " 11  extra.renting       245 non-null    bool   \n",
      " 12  extra.returning     245 non-null    bool   \n",
      " 13  extra.slots         245 non-null    int64  \n",
      " 14  extra.uid           245 non-null    object \n",
      "dtypes: bool(3), float64(2), int64(6), object(4)\n",
      "memory usage: 23.8+ KB\n"
     ]
    },
    {
     "data": {
      "text/plain": "     empty_slots  free_bikes                                id   latitude  \\\n0             16          18  7a19c49f486d7c0c02b3685d7b240448  49.262487   \n1              1          15  32603a87cfca71d0f7dfa3513bad69d5  49.274566   \n2             12          14  6d42fa40360f9a6b2bf641c7b8bb2862  49.279764   \n3             12           4  66f873d641d448bd1572ab086665a458  49.260599   \n4             11           5  485d4d24c803cfde829ab89699fed833  49.264215   \n..           ...         ...                               ...        ...   \n240           33           7  a74744ce4bb7ea2aa9f406ac8bff95d8  49.280977   \n241           10           9  5699b40126e10c2f68eefc3eb18ff3a1  49.270783   \n242           17           5  34fd37d12eb989b49518ef53941ee3ff  49.264019   \n243           18           2  b7dd37a7dd668d6d10024b7f18acc438  49.265800   \n244           18           1  cc25ae4f093b33ba0afd1dbc0dd20324  49.265442   \n\n      longitude                         name                    timestamp  \\\n0   -123.114397                10th & Cambie  2023-09-21T15:03:45.749000Z   \n1   -123.121817  Yaletown-Roundhouse Station  2023-09-21T15:03:45.745000Z   \n2   -123.110154            Dunsmuir & Beatty  2023-09-21T15:03:45.746000Z   \n3   -123.113504     12th & Yukon (City Hall)  2023-09-21T15:03:45.747000Z   \n4   -123.117772                    8th & Ash  2023-09-21T15:03:45.761000Z   \n..          ...                          ...                          ...   \n240 -123.035969  PNE - Hastings & Windermere  2023-09-21T15:03:45.669000Z   \n241 -123.141564                    1st & Fir  2023-09-21T15:03:45.649000Z   \n242 -123.209176               Sasamat & 10th  2023-09-21T15:03:45.576000Z   \n243 -123.205960                Trimble & 8th  2023-09-21T15:03:45.646000Z   \n244 -123.187738               Highbury & 8th  2023-09-21T15:03:45.884000Z   \n\n     extra.ebikes  extra.has_ebikes  extra.last_updated  extra.normal_bikes  \\\n0               2              True          1695308531                  16   \n1               2              True          1695308550                  13   \n2               1              True          1695308228                  13   \n3               4              True          1695308356                   0   \n4               3              True          1695308529                   2   \n..            ...               ...                 ...                 ...   \n240             2              True          1695308314                   5   \n241             2              True          1695308537                   7   \n242             1              True          1695308185                   4   \n243             1              True          1695308518                   1   \n244             0              True          1695308347                   1   \n\n     extra.renting  extra.returning  extra.slots extra.uid  \n0             True             True           36      0001  \n1             True             True           16      0004  \n2             True             True           26      0005  \n3             True             True           16      0007  \n4             True             True           16      0008  \n..             ...              ...          ...       ...  \n240           True             True           40      1002  \n241           True             True           20      0315  \n242           True             True           22      0716  \n243           True             True           20      0715  \n244           True             True           20      0403  \n\n[245 rows x 15 columns]",
      "text/html": "<div>\n<style scoped>\n    .dataframe tbody tr th:only-of-type {\n        vertical-align: middle;\n    }\n\n    .dataframe tbody tr th {\n        vertical-align: top;\n    }\n\n    .dataframe thead th {\n        text-align: right;\n    }\n</style>\n<table border=\"1\" class=\"dataframe\">\n  <thead>\n    <tr style=\"text-align: right;\">\n      <th></th>\n      <th>empty_slots</th>\n      <th>free_bikes</th>\n      <th>id</th>\n      <th>latitude</th>\n      <th>longitude</th>\n      <th>name</th>\n      <th>timestamp</th>\n      <th>extra.ebikes</th>\n      <th>extra.has_ebikes</th>\n      <th>extra.last_updated</th>\n      <th>extra.normal_bikes</th>\n      <th>extra.renting</th>\n      <th>extra.returning</th>\n      <th>extra.slots</th>\n      <th>extra.uid</th>\n    </tr>\n  </thead>\n  <tbody>\n    <tr>\n      <th>0</th>\n      <td>16</td>\n      <td>18</td>\n      <td>7a19c49f486d7c0c02b3685d7b240448</td>\n      <td>49.262487</td>\n      <td>-123.114397</td>\n      <td>10th &amp; Cambie</td>\n      <td>2023-09-21T15:03:45.749000Z</td>\n      <td>2</td>\n      <td>True</td>\n      <td>1695308531</td>\n      <td>16</td>\n      <td>True</td>\n      <td>True</td>\n      <td>36</td>\n      <td>0001</td>\n    </tr>\n    <tr>\n      <th>1</th>\n      <td>1</td>\n      <td>15</td>\n      <td>32603a87cfca71d0f7dfa3513bad69d5</td>\n      <td>49.274566</td>\n      <td>-123.121817</td>\n      <td>Yaletown-Roundhouse Station</td>\n      <td>2023-09-21T15:03:45.745000Z</td>\n      <td>2</td>\n      <td>True</td>\n      <td>1695308550</td>\n      <td>13</td>\n      <td>True</td>\n      <td>True</td>\n      <td>16</td>\n      <td>0004</td>\n    </tr>\n    <tr>\n      <th>2</th>\n      <td>12</td>\n      <td>14</td>\n      <td>6d42fa40360f9a6b2bf641c7b8bb2862</td>\n      <td>49.279764</td>\n      <td>-123.110154</td>\n      <td>Dunsmuir &amp; Beatty</td>\n      <td>2023-09-21T15:03:45.746000Z</td>\n      <td>1</td>\n      <td>True</td>\n      <td>1695308228</td>\n      <td>13</td>\n      <td>True</td>\n      <td>True</td>\n      <td>26</td>\n      <td>0005</td>\n    </tr>\n    <tr>\n      <th>3</th>\n      <td>12</td>\n      <td>4</td>\n      <td>66f873d641d448bd1572ab086665a458</td>\n      <td>49.260599</td>\n      <td>-123.113504</td>\n      <td>12th &amp; Yukon (City Hall)</td>\n      <td>2023-09-21T15:03:45.747000Z</td>\n      <td>4</td>\n      <td>True</td>\n      <td>1695308356</td>\n      <td>0</td>\n      <td>True</td>\n      <td>True</td>\n      <td>16</td>\n      <td>0007</td>\n    </tr>\n    <tr>\n      <th>4</th>\n      <td>11</td>\n      <td>5</td>\n      <td>485d4d24c803cfde829ab89699fed833</td>\n      <td>49.264215</td>\n      <td>-123.117772</td>\n      <td>8th &amp; Ash</td>\n      <td>2023-09-21T15:03:45.761000Z</td>\n      <td>3</td>\n      <td>True</td>\n      <td>1695308529</td>\n      <td>2</td>\n      <td>True</td>\n      <td>True</td>\n      <td>16</td>\n      <td>0008</td>\n    </tr>\n    <tr>\n      <th>...</th>\n      <td>...</td>\n      <td>...</td>\n      <td>...</td>\n      <td>...</td>\n      <td>...</td>\n      <td>...</td>\n      <td>...</td>\n      <td>...</td>\n      <td>...</td>\n      <td>...</td>\n      <td>...</td>\n      <td>...</td>\n      <td>...</td>\n      <td>...</td>\n      <td>...</td>\n    </tr>\n    <tr>\n      <th>240</th>\n      <td>33</td>\n      <td>7</td>\n      <td>a74744ce4bb7ea2aa9f406ac8bff95d8</td>\n      <td>49.280977</td>\n      <td>-123.035969</td>\n      <td>PNE - Hastings &amp; Windermere</td>\n      <td>2023-09-21T15:03:45.669000Z</td>\n      <td>2</td>\n      <td>True</td>\n      <td>1695308314</td>\n      <td>5</td>\n      <td>True</td>\n      <td>True</td>\n      <td>40</td>\n      <td>1002</td>\n    </tr>\n    <tr>\n      <th>241</th>\n      <td>10</td>\n      <td>9</td>\n      <td>5699b40126e10c2f68eefc3eb18ff3a1</td>\n      <td>49.270783</td>\n      <td>-123.141564</td>\n      <td>1st &amp; Fir</td>\n      <td>2023-09-21T15:03:45.649000Z</td>\n      <td>2</td>\n      <td>True</td>\n      <td>1695308537</td>\n      <td>7</td>\n      <td>True</td>\n      <td>True</td>\n      <td>20</td>\n      <td>0315</td>\n    </tr>\n    <tr>\n      <th>242</th>\n      <td>17</td>\n      <td>5</td>\n      <td>34fd37d12eb989b49518ef53941ee3ff</td>\n      <td>49.264019</td>\n      <td>-123.209176</td>\n      <td>Sasamat &amp; 10th</td>\n      <td>2023-09-21T15:03:45.576000Z</td>\n      <td>1</td>\n      <td>True</td>\n      <td>1695308185</td>\n      <td>4</td>\n      <td>True</td>\n      <td>True</td>\n      <td>22</td>\n      <td>0716</td>\n    </tr>\n    <tr>\n      <th>243</th>\n      <td>18</td>\n      <td>2</td>\n      <td>b7dd37a7dd668d6d10024b7f18acc438</td>\n      <td>49.265800</td>\n      <td>-123.205960</td>\n      <td>Trimble &amp; 8th</td>\n      <td>2023-09-21T15:03:45.646000Z</td>\n      <td>1</td>\n      <td>True</td>\n      <td>1695308518</td>\n      <td>1</td>\n      <td>True</td>\n      <td>True</td>\n      <td>20</td>\n      <td>0715</td>\n    </tr>\n    <tr>\n      <th>244</th>\n      <td>18</td>\n      <td>1</td>\n      <td>cc25ae4f093b33ba0afd1dbc0dd20324</td>\n      <td>49.265442</td>\n      <td>-123.187738</td>\n      <td>Highbury &amp; 8th</td>\n      <td>2023-09-21T15:03:45.884000Z</td>\n      <td>0</td>\n      <td>True</td>\n      <td>1695308347</td>\n      <td>1</td>\n      <td>True</td>\n      <td>True</td>\n      <td>20</td>\n      <td>0403</td>\n    </tr>\n  </tbody>\n</table>\n<p>245 rows × 15 columns</p>\n</div>"
     },
     "execution_count": 31,
     "metadata": {},
     "output_type": "execute_result"
    }
   ],
   "source": [
    "# # Use pd.json_normalize to flatten the JSON array\n",
    "vancouver_df = pd.json_normalize(vancouver_json['network']['stations'])\n",
    "vancouver_df.info()\n",
    "vancouver_df\n"
   ]
  },
  {
   "cell_type": "markdown",
   "source": [
    "## Step 6: Export Dataframe to Postgres\n",
    "* identify which data types are present the the City bike data frame\n",
    "* Map them to appropriate fields for SQL\n",
    "* Setup the connection string and functions to create/append DB\n"
   ],
   "metadata": {
    "collapsed": false
   }
  },
  {
   "cell_type": "code",
   "execution_count": 13,
   "outputs": [
    {
     "data": {
      "text/plain": "empty_slots             int64\nfree_bikes              int64\nid                     object\nlatitude              float64\nlongitude             float64\nname                   object\ntimestamp              object\nextra.ebikes            int64\nextra.has_ebikes         bool\nextra.last_updated      int64\nextra.normal_bikes      int64\nextra.renting            bool\nextra.returning          bool\nextra.slots             int64\nextra.uid              object\ndtype: object"
     },
     "execution_count": 13,
     "metadata": {},
     "output_type": "execute_result"
    }
   ],
   "source": [
    "vancouver_df.dtypes"
   ],
   "metadata": {
    "collapsed": false,
    "ExecuteTime": {
     "end_time": "2023-09-21T15:05:43.444240Z",
     "start_time": "2023-09-21T15:05:43.440712Z"
    }
   }
  },
  {
   "cell_type": "code",
   "execution_count": 8,
   "outputs": [],
   "source": [
    "### QUERY - CREATE the CITY_BIKES TABLE\n",
    "\n",
    "create_citybikes_tble = \"\"\"\n",
    "CREATE TABLE IF NOT EXISTS city_bikes (\n",
    "    empty_slots integer,\n",
    "    free_bikes integer,\n",
    "    id text,\n",
    "    latitude double precision,\n",
    "    longitude double precision,\n",
    "    name text,\n",
    "    timestamp timestamp,\n",
    "    extra_ebikes integer,\n",
    "    extra_has_ebikes boolean,\n",
    "    extra_last_updated bigint\n",
    "    ); \n",
    "\"\"\""
   ],
   "metadata": {
    "collapsed": false,
    "ExecuteTime": {
     "end_time": "2023-09-21T18:45:04.006802Z",
     "start_time": "2023-09-21T18:45:04.001407Z"
    }
   }
  },
  {
   "cell_type": "code",
   "execution_count": 2,
   "outputs": [],
   "source": [
    "import psycopg2"
   ],
   "metadata": {
    "collapsed": false,
    "ExecuteTime": {
     "end_time": "2023-09-21T18:28:29.332368Z",
     "start_time": "2023-09-21T18:28:29.254971Z"
    }
   }
  },
  {
   "cell_type": "code",
   "execution_count": 14,
   "outputs": [
    {
     "name": "stdout",
     "output_type": "stream",
     "text": [
      "Connected to PostgreSQL database!\n"
     ]
    }
   ],
   "source": [
    "### DEFINE CONNECTION STRING TO POSTGRES\n",
    "# Define the connection parameters\n",
    "db_params = {\n",
    "        'host': '192.168.0.21',       # PostgreSQL host on ubuntu\n",
    "        'port': '5432',       # Default port\n",
    "        'database': 'LHL-Statistics-Project',     # Database name\n",
    "        'user': 'jamie',   # obvs\n",
    "        'password': 'b3laf0nt3' # obvs\n",
    "    }\n",
    "\n",
    "def create_connection(db_params):\n",
    "    # Create a connection to the PostgreSQL database\n",
    "    try:\n",
    "        connection = psycopg2.connect(**db_params)\n",
    "        print(\"Connected to PostgreSQL database!\")     \n",
    "           \n",
    "    except psycopg2.Error as e:\n",
    "        print(\"Error connecting to PostgreSQL:\", e)\n",
    "\n",
    "## Create a CONNECTION between python and the sqlite file 'sm_app'\n",
    "connection = create_connection(db_params)"
   ],
   "metadata": {
    "collapsed": false,
    "ExecuteTime": {
     "end_time": "2023-09-21T18:49:28.842312Z",
     "start_time": "2023-09-21T18:49:28.814959Z"
    }
   }
  },
  {
   "cell_type": "code",
   "execution_count": 9,
   "outputs": [
    {
     "name": "stdout",
     "output_type": "stream",
     "text": [
      "Connected to PostgreSQL database!\n",
      "Query executed successfully\n"
     ]
    }
   ],
   "source": [
    "### DEFINE FUNCTION TO EXECUTE QUERIES\n",
    "\n",
    "import psycopg2\n",
    "from psycopg2 import Error\n",
    "\n",
    "def execute_structure_qry(connection, query):\n",
    "    try:\n",
    "        connection = psycopg2.connect(**db_params)\n",
    "        print(\"Connected to PostgreSQL database!\")\n",
    "        try:\n",
    "            cursor = connection.cursor()\n",
    "            cursor.execute(query)\n",
    "            cursor.close()\n",
    "            connection.commit()\n",
    "            print(\"Query executed successfully\")\n",
    "        except Error as e:\n",
    "            connection.rollback()\n",
    "            print(f\"Error executing query: {e}\")\n",
    "            \n",
    "    except psycopg2.Error as e:\n",
    "        print(\"Error connecting to PostgreSQL:\", e)\n",
    "\n",
    "   # Close the connection when done\n",
    "    connection.close()\n",
    "\n",
    "execute_structure_qry(connection,create_citybikes_tble)\n",
    "\n"
   ],
   "metadata": {
    "collapsed": false,
    "ExecuteTime": {
     "end_time": "2023-09-21T18:45:07.592861Z",
     "start_time": "2023-09-21T18:45:07.470779Z"
    }
   }
  },
  {
   "cell_type": "code",
   "execution_count": 21,
   "outputs": [],
   "source": [
    "### DEFINE SELECT or READ  QUERY FUNCTION\n",
    "\n",
    "def execute_read_query(connection, query):\n",
    "    try:\n",
    "        connection = psycopg2.connect(**db_params)\n",
    "        print(\"Connected to PostgreSQL database!\")\n",
    "    \n",
    "        cursor = connection.cursor()\n",
    "        result = None\n",
    "        try:\n",
    "            cursor.execute(query)\n",
    "            result = cursor.fetchall()\n",
    "            return result\n",
    "        except Error as e:\n",
    "            print(f\"The error '{e}' occurred\")\n",
    "    except psycopg2.Error as e:\n",
    "        print(\"Error connecting to PostgreSQL:\", e)\n",
    "\n"
   ],
   "metadata": {
    "collapsed": false,
    "ExecuteTime": {
     "end_time": "2023-09-21T19:00:42.993731Z",
     "start_time": "2023-09-21T19:00:42.985679Z"
    }
   }
  },
  {
   "cell_type": "code",
   "execution_count": 22,
   "outputs": [],
   "source": [
    "## DEFINE SELECT QUERIES\n",
    "test_query = \"SELECT * from city_bikes;\"\n"
   ],
   "metadata": {
    "collapsed": false,
    "ExecuteTime": {
     "end_time": "2023-09-21T19:00:45.453587Z",
     "start_time": "2023-09-21T19:00:45.446201Z"
    }
   }
  },
  {
   "cell_type": "code",
   "execution_count": 23,
   "outputs": [
    {
     "name": "stdout",
     "output_type": "stream",
     "text": [
      "Connected to PostgreSQL database!\n"
     ]
    },
    {
     "data": {
      "text/plain": "[]"
     },
     "execution_count": 23,
     "metadata": {},
     "output_type": "execute_result"
    }
   ],
   "source": [
    "import psycopg2\n",
    "from psycopg2 import Error\n",
    "\n",
    "## CALL SELECT QUERIES\n",
    "## Create a CONNECTION between python and the sqlite file 'sm_app'\n",
    "\n",
    "execute_read_query(connection,test_query)"
   ],
   "metadata": {
    "collapsed": false,
    "ExecuteTime": {
     "end_time": "2023-09-21T19:00:55.322537Z",
     "start_time": "2023-09-21T19:00:55.296250Z"
    }
   }
  }
 ],
 "metadata": {
  "kernelspec": {
   "display_name": "Python 3",
   "language": "python",
   "name": "python3"
  },
  "language_info": {
   "codemirror_mode": {
    "name": "ipython",
    "version": 3
   },
   "file_extension": ".py",
   "mimetype": "text/x-python",
   "name": "python",
   "nbconvert_exporter": "python",
   "pygments_lexer": "ipython3",
   "version": "3.8.5"
  }
 },
 "nbformat": 4,
 "nbformat_minor": 4
}
